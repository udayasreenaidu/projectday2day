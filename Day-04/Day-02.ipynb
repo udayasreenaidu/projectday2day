{
 "cells": [
  {
   "cell_type": "code",
   "execution_count": null,
   "id": "precious-arlington",
   "metadata": {},
   "outputs": [],
   "source": [
    "print(\"Hello\")"
   ]
  },
  {
   "cell_type": "code",
   "execution_count": null,
   "id": "stunning-chest",
   "metadata": {},
   "outputs": [],
   "source": [
    "a=3"
   ]
  },
  {
   "cell_type": "markdown",
   "id": "periodic-process",
   "metadata": {},
   "source": [
    "# Variables:\n",
    "    -> To stores a value and it can changes the value"
   ]
  },
  {
   "cell_type": "code",
   "execution_count": null,
   "id": "executive-consideration",
   "metadata": {},
   "outputs": [],
   "source": [
    "a = 23"
   ]
  },
  {
   "cell_type": "code",
   "execution_count": null,
   "id": "usual-truth",
   "metadata": {},
   "outputs": [],
   "source": [
    "type(a)"
   ]
  },
  {
   "cell_type": "code",
   "execution_count": null,
   "id": "derived-fight",
   "metadata": {},
   "outputs": [],
   "source": [
    "print(type(a))"
   ]
  },
  {
   "cell_type": "code",
   "execution_count": null,
   "id": "moved-concord",
   "metadata": {},
   "outputs": [],
   "source": [
    "b = 56.0000\n",
    "print(type(b))"
   ]
  },
  {
   "cell_type": "code",
   "execution_count": null,
   "id": "leading-bishop",
   "metadata": {},
   "outputs": [],
   "source": [
    "a = 56\n",
    "b = 96\n",
    "print(a,b)"
   ]
  },
  {
   "cell_type": "code",
   "execution_count": null,
   "id": "shared-basket",
   "metadata": {},
   "outputs": [],
   "source": [
    "w = 56\n",
    "p = '4564'\n",
    "print(type(w),type(p))"
   ]
  },
  {
   "cell_type": "code",
   "execution_count": null,
   "id": "arbitrary-maximum",
   "metadata": {},
   "outputs": [],
   "source": [
    "a"
   ]
  },
  {
   "cell_type": "code",
   "execution_count": null,
   "id": "native-giant",
   "metadata": {},
   "outputs": [],
   "source": [
    "a = '56.324558'\n",
    "int(float(str(a)))"
   ]
  },
  {
   "cell_type": "markdown",
   "id": "through-amber",
   "metadata": {},
   "source": [
    "# Data Types\n",
    "    -> int,float,string,complex"
   ]
  },
  {
   "cell_type": "markdown",
   "id": "experimental-penguin",
   "metadata": {},
   "source": [
    "## Operators:\n",
    "    - Assignment -> +=,-=,*=,/=,%=\n",
    "    - Bitwise -> &,|\n",
    "    - Logical -> &&(AND),||(OR),^(XOR)\n",
    "    - Relational -> ==,!=,>=,<=,>>,<<\n",
    "    - Arithmetic -> +,-,*,/,%,//(floor Division),**(power)\n",
    "    - Membersip -> in,not in\n",
    "    - Identitiy -> is,is not"
   ]
  },
  {
   "cell_type": "markdown",
   "id": "sound-final",
   "metadata": {},
   "source": [
    "# Conditional Statements: \n",
    "    -> To check whether a given condition is either True or False"
   ]
  },
  {
   "cell_type": "markdown",
   "id": "handled-heather",
   "metadata": {},
   "source": [
    "   ```\n",
    "    - if -> 1 case\n",
    "    syntax:\n",
    "        if condition:\n",
    "            //stmnt\n",
    "            \n",
    "    - elif -> 2 or more cases\n",
    "    syntax:\n",
    "        if condition-1:\n",
    "            //stmnt-1\n",
    "        elif condition-2:\n",
    "            //stmnt-2\n",
    "        elif condition-n:\n",
    "            //stmnt-n\n",
    "            | | | |\n",
    "        else:\n",
    "            //stmnt(n-1)\n",
    "            \n",
    "    - if-else -> 2 cases\n",
    "    syntax:\n",
    "        if condition:\n",
    "            // True stmnt\n",
    "        else:\n",
    "            // False stmnt\n",
    "    - nested if -> logical operators\n",
    "    syntax:\n",
    "        if condition-1:\n",
    "            if condition-2:\n",
    "                //stmnt-1\n",
    "        \n",
    "        if condition-1 logical operators condition-2:\n",
    "            //stmnt\n",
    "```"
   ]
  },
  {
   "cell_type": "markdown",
   "id": "federal-understanding",
   "metadata": {},
   "source": [
    "# 24-03-2021"
   ]
  },
  {
   "cell_type": "markdown",
   "id": "convertible-anthropology",
   "metadata": {},
   "source": [
    "# Markdown Format Syntax:"
   ]
  },
  {
   "cell_type": "markdown",
   "id": "early-explorer",
   "metadata": {},
   "source": [
    "# Heading:"
   ]
  },
  {
   "cell_type": "markdown",
   "id": "comparative-officer",
   "metadata": {},
   "source": [
    "# H1\n",
    "## H2\n",
    "### H3\n",
    "#### H4\n",
    "##### H5\n",
    "###### H6\n",
    "####### H7"
   ]
  },
  {
   "cell_type": "markdown",
   "id": "stopped-village",
   "metadata": {},
   "source": [
    "**This is for bold**"
   ]
  },
  {
   "cell_type": "markdown",
   "id": "unavailable-quest",
   "metadata": {},
   "source": [
    "__This is another way for bold__"
   ]
  },
  {
   "cell_type": "markdown",
   "id": "formal-essence",
   "metadata": {},
   "source": [
    "*This is itlaic*"
   ]
  },
  {
   "cell_type": "markdown",
   "id": "bigger-replication",
   "metadata": {},
   "source": [
    "_This is another way for italic_"
   ]
  },
  {
   "cell_type": "markdown",
   "id": "consolidated-delta",
   "metadata": {},
   "source": [
    "~~This for strike through~~"
   ]
  },
  {
   "cell_type": "markdown",
   "id": "absent-france",
   "metadata": {},
   "source": [
    "**This is for nested _italic_ or bold**"
   ]
  },
  {
   "cell_type": "markdown",
   "id": "hungarian-precipitation",
   "metadata": {},
   "source": [
    "***This is for all bold and italic***"
   ]
  },
  {
   "cell_type": "markdown",
   "id": "defensive-worker",
   "metadata": {},
   "source": [
    "## Quoting Text"
   ]
  },
  {
   "cell_type": "markdown",
   "id": "nutritional-shift",
   "metadata": {},
   "source": [
    "> This is for quoting text example sdb kjsa fkaskj dfksja dfkjsd kfljsdak jfksja fdgfoijsoidf josijof iso hdfuhs djhfskzjh flhs dkjhfksjhfkjshzdkjf"
   ]
  },
  {
   "cell_type": "markdown",
   "id": "forbidden-ceremony",
   "metadata": {},
   "source": [
    "## Quoting Code"
   ]
  },
  {
   "cell_type": "markdown",
   "id": "mounted-mentor",
   "metadata": {},
   "source": [
    "This is `quoting code` example"
   ]
  },
  {
   "cell_type": "markdown",
   "id": "adaptive-calibration",
   "metadata": {},
   "source": [
    "``\n",
    "similar for coding\n",
    "we can use this format\n",
    "``"
   ]
  },
  {
   "cell_type": "markdown",
   "id": "rocky-communications",
   "metadata": {},
   "source": [
    "```sdfsdf\n",
    "sdfsdfsdf\n",
    "sdfsdfsdf```"
   ]
  },
  {
   "cell_type": "markdown",
   "id": "outstanding-participation",
   "metadata": {},
   "source": [
    "## Links"
   ]
  },
  {
   "cell_type": "markdown",
   "id": "about-penny",
   "metadata": {},
   "source": [
    "This is for google page [click here to go for google](https://google.com)"
   ]
  },
  {
   "cell_type": "markdown",
   "id": "inclusive-accent",
   "metadata": {},
   "source": [
    "Relative link [click to view](./sample.text)"
   ]
  },
  {
   "cell_type": "markdown",
   "id": "alert-boost",
   "metadata": {},
   "source": [
    "## Lists"
   ]
  },
  {
   "cell_type": "markdown",
   "id": "biological-detector",
   "metadata": {},
   "source": [
    "- Chapter-1\n",
    "    - sub chapter-1.1\n",
    "        - sub topic"
   ]
  },
  {
   "cell_type": "code",
   "execution_count": null,
   "id": "regular-element",
   "metadata": {},
   "outputs": [],
   "source": [
    "# t = \"ramu\"\n",
    "t = input()\n",
    "if t == \"ramu\":\n",
    "    print(\"Ramu\")"
   ]
  },
  {
   "cell_type": "markdown",
   "id": "instrumental-suicide",
   "metadata": {},
   "source": [
    "## Input\n",
    "input() -> By default it stores only string format of data"
   ]
  },
  {
   "cell_type": "code",
   "execution_count": null,
   "id": "alike-photograph",
   "metadata": {},
   "outputs": [],
   "source": [
    "f = input()\n",
    "print(type(f))"
   ]
  },
  {
   "cell_type": "code",
   "execution_count": null,
   "id": "intimate-ethics",
   "metadata": {},
   "outputs": [],
   "source": [
    "y = int(input())\n",
    "if y%2==0:\n",
    "    print(\"Given number %d is even\"%y)"
   ]
  },
  {
   "cell_type": "markdown",
   "id": "closing-arrival",
   "metadata": {},
   "source": [
    "## Output Formats"
   ]
  },
  {
   "cell_type": "markdown",
   "id": "civilian-lender",
   "metadata": {},
   "source": [
    "```\n",
    "-> % -> print(\"%d\"%variablename)\n",
    "-> .format -> print(\"{}\".format(variablename))\n",
    "```"
   ]
  },
  {
   "cell_type": "code",
   "execution_count": null,
   "id": "local-queens",
   "metadata": {},
   "outputs": [],
   "source": [
    "y = int(input())\n",
    "if y%2==0:\n",
    "    print(\"Given number %d is even\"%y)\n",
    "else:\n",
    "    print(\"Given number {} is odd\".format(y))"
   ]
  },
  {
   "cell_type": "markdown",
   "id": "patient-fields",
   "metadata": {},
   "source": [
    "# Control Statements:\n",
    "    -> To control the flow of exection untill the condition fails\n",
    "    -> for -> particular range\n",
    "    Syntax:\n",
    "        for iteration_variable in iterator:\n",
    "            //stmnts\n",
    "            \n",
    "    -> while -> particular range and for unknown ranges also \n",
    "    Syntax:() -> optional cases\n",
    "        initialization:\n",
    "        while condition:\n",
    "            //stmnts\n",
    "            //incr/decr"
   ]
  },
  {
   "cell_type": "markdown",
   "id": "advanced-canal",
   "metadata": {},
   "source": [
    "# Range:\n",
    "    -> range()\n",
    "    -> range(ending_range)\n",
    "        Ex: range(5)\n",
    "        starting => 0 -> by default it starts from 0[inclusive]\n",
    "        ending => endrange-1 [exclusive]\n",
    "    -> range(start_range,end_range)\n",
    "        Ex: range(20,40)\n",
    "        starting => 20\n",
    "        ending => 39\n",
    "    -> range(start_range,end_range,stepping)\n",
    "        Ex: range(2,20,2)\n",
    "        starting => 2\n",
    "        ending => 18"
   ]
  },
  {
   "cell_type": "code",
   "execution_count": null,
   "id": "beginning-cassette",
   "metadata": {},
   "outputs": [],
   "source": [
    "j = int(input())\n",
    "for i in range(j):\n",
    "    print(\"{}\".format(i),end=\"+ \")"
   ]
  },
  {
   "cell_type": "code",
   "execution_count": null,
   "id": "alert-liberal",
   "metadata": {},
   "outputs": [],
   "source": [
    "j = int(input())\n",
    "k = int(input())\n",
    "for i in range(j,k):\n",
    "    print(\"{}\".format(i),end=\" \")"
   ]
  },
  {
   "cell_type": "code",
   "execution_count": null,
   "id": "aging-apollo",
   "metadata": {},
   "outputs": [],
   "source": [
    "j,k,s,c = int(input()),int(input()),int(input()),0\n",
    "for i in range(j,k,s):\n",
    "    print(\"{}\".format(i),end=\" \")\n",
    "    c+=1\n",
    "    \n",
    "print(\"Loop count is: {}\".format(c))"
   ]
  },
  {
   "cell_type": "markdown",
   "id": "indie-annotation",
   "metadata": {},
   "source": [
    "```\n",
    "Input: 1234\n",
    "Output: Given number is: 1234\n",
    "        Its Length is: 4\n",
    "```"
   ]
  },
  {
   "cell_type": "code",
   "execution_count": null,
   "id": "centered-share",
   "metadata": {},
   "outputs": [],
   "source": [
    "k,c = int(input()),0\n",
    "p=k\n",
    "while k!=0:\n",
    "    k //= 10\n",
    "    c+=1\n",
    "print(\"Given number is: {}\\nIts Count is: {}\".format(p,c))"
   ]
  },
  {
   "cell_type": "markdown",
   "id": "introductory-vertical",
   "metadata": {},
   "source": [
    "```\n",
    "Input:178468765\n",
    "#       567864871\n",
    "Output:Given numer is: 178468765\n",
    "       Its left half even numbers are: 4 8\n",
    "```"
   ]
  },
  {
   "cell_type": "markdown",
   "id": "known-prescription",
   "metadata": {},
   "source": [
    "## Jumping Statements:\n",
    "    - continue -> skips\n",
    "    - break -> exit\n",
    "    - pass -> nothing\n",
    "    - return -> it returns values to main "
   ]
  },
  {
   "cell_type": "markdown",
   "id": "effective-aberdeen",
   "metadata": {},
   "source": [
    "## Data Structures\n",
    "    - List\n",
    "    - String\n",
    "    - Tuple\n",
    "    - Set\n",
    "    - Dictionary"
   ]
  },
  {
   "cell_type": "markdown",
   "id": "romance-glass",
   "metadata": {},
   "source": [
    "# List:\n",
    "    -> Heterogeneous Data type elements\n",
    "    -> []\n",
    "    -> indexing can be present, slicing can be done\n",
    "    -> It can changes the value\n",
    "    -> It allows duplicate elements\n",
    "    "
   ]
  },
  {
   "cell_type": "code",
   "execution_count": null,
   "id": "tamil-thousand",
   "metadata": {},
   "outputs": [],
   "source": [
    "p = [1,2.03,'tarun',45,78,48]\n",
    "print(p)\n",
    "print(p[0])\n",
    "print(p[2])"
   ]
  },
  {
   "cell_type": "code",
   "execution_count": null,
   "id": "personalized-framework",
   "metadata": {},
   "outputs": [],
   "source": [
    "for i in p:\n",
    "    print(i,type(i))"
   ]
  },
  {
   "cell_type": "code",
   "execution_count": null,
   "id": "unknown-program",
   "metadata": {},
   "outputs": [],
   "source": [
    "print(type(p))"
   ]
  },
  {
   "cell_type": "code",
   "execution_count": null,
   "id": "worth-challenge",
   "metadata": {},
   "outputs": [],
   "source": [
    "k = 20\n",
    "print(type(k))"
   ]
  },
  {
   "cell_type": "code",
   "execution_count": null,
   "id": "smooth-vermont",
   "metadata": {},
   "outputs": [],
   "source": [
    "for j in range(len(p)):\n",
    "    print(j,p[j],type(j),type(p[j]))"
   ]
  },
  {
   "cell_type": "code",
   "execution_count": null,
   "id": "posted-ukraine",
   "metadata": {},
   "outputs": [],
   "source": [
    "print(dir(list))"
   ]
  },
  {
   "cell_type": "code",
   "execution_count": null,
   "id": "expired-therapy",
   "metadata": {},
   "outputs": [],
   "source": [
    "p"
   ]
  },
  {
   "cell_type": "code",
   "execution_count": null,
   "id": "enormous-guard",
   "metadata": {},
   "outputs": [],
   "source": [
    "p.append(12)\n",
    "print(p)"
   ]
  },
  {
   "cell_type": "code",
   "execution_count": null,
   "id": "christian-expert",
   "metadata": {},
   "outputs": [],
   "source": [
    "m = p.copy()\n",
    "print(m,type(m))\n",
    "print(p,type(p))"
   ]
  },
  {
   "cell_type": "code",
   "execution_count": null,
   "id": "terminal-separation",
   "metadata": {},
   "outputs": [],
   "source": [
    "p.append(\"kumar\")"
   ]
  },
  {
   "cell_type": "code",
   "execution_count": null,
   "id": "radical-starter",
   "metadata": {},
   "outputs": [],
   "source": [
    "print(p)\n",
    "print(m)"
   ]
  },
  {
   "cell_type": "code",
   "execution_count": null,
   "id": "healthy-syndrome",
   "metadata": {},
   "outputs": [],
   "source": [
    "p.count(45)"
   ]
  },
  {
   "cell_type": "code",
   "execution_count": null,
   "id": "toxic-sleep",
   "metadata": {},
   "outputs": [],
   "source": [
    "p.append(12)"
   ]
  },
  {
   "cell_type": "code",
   "execution_count": null,
   "id": "brown-status",
   "metadata": {},
   "outputs": [],
   "source": [
    "print(p)"
   ]
  },
  {
   "cell_type": "code",
   "execution_count": null,
   "id": "ahead-completion",
   "metadata": {},
   "outputs": [],
   "source": [
    "p.count(12)"
   ]
  },
  {
   "cell_type": "code",
   "execution_count": null,
   "id": "younger-leeds",
   "metadata": {},
   "outputs": [],
   "source": [
    "p.append(12,45)"
   ]
  },
  {
   "cell_type": "code",
   "execution_count": null,
   "id": "reflected-headline",
   "metadata": {},
   "outputs": [],
   "source": [
    "p.extend(56)"
   ]
  },
  {
   "cell_type": "code",
   "execution_count": null,
   "id": "local-princeton",
   "metadata": {},
   "outputs": [],
   "source": [
    "p.extend([23])"
   ]
  },
  {
   "cell_type": "code",
   "execution_count": null,
   "id": "opponent-shareware",
   "metadata": {},
   "outputs": [],
   "source": [
    "print(p)"
   ]
  },
  {
   "cell_type": "code",
   "execution_count": null,
   "id": "compatible-colleague",
   "metadata": {},
   "outputs": [],
   "source": [
    "p.extend([56,45,\"prasad\"])"
   ]
  },
  {
   "cell_type": "code",
   "execution_count": null,
   "id": "theoretical-nirvana",
   "metadata": {},
   "outputs": [],
   "source": [
    "p"
   ]
  },
  {
   "cell_type": "code",
   "execution_count": null,
   "id": "falling-yemen",
   "metadata": {},
   "outputs": [],
   "source": [
    "p.index(12)"
   ]
  },
  {
   "cell_type": "code",
   "execution_count": null,
   "id": "verbal-malta",
   "metadata": {},
   "outputs": [],
   "source": [
    "p.insert(0,\"lalitha\")"
   ]
  },
  {
   "cell_type": "code",
   "execution_count": null,
   "id": "homeless-dubai",
   "metadata": {},
   "outputs": [],
   "source": [
    "print(p)"
   ]
  },
  {
   "cell_type": "code",
   "execution_count": null,
   "id": "central-tomato",
   "metadata": {},
   "outputs": [],
   "source": [
    "p.insert(0,45)"
   ]
  },
  {
   "cell_type": "code",
   "execution_count": null,
   "id": "persistent-pregnancy",
   "metadata": {},
   "outputs": [],
   "source": [
    "print(p)"
   ]
  },
  {
   "cell_type": "code",
   "execution_count": null,
   "id": "introductory-verification",
   "metadata": {},
   "outputs": [],
   "source": [
    "p.insert(2,[12,45])"
   ]
  },
  {
   "cell_type": "code",
   "execution_count": null,
   "id": "mature-occupation",
   "metadata": {},
   "outputs": [],
   "source": [
    "print(p)"
   ]
  },
  {
   "cell_type": "code",
   "execution_count": null,
   "id": "aggregate-beaver",
   "metadata": {},
   "outputs": [],
   "source": [
    "p[2]"
   ]
  },
  {
   "cell_type": "code",
   "execution_count": null,
   "id": "roman-sunrise",
   "metadata": {},
   "outputs": [],
   "source": [
    "p[2:0]"
   ]
  },
  {
   "cell_type": "code",
   "execution_count": null,
   "id": "statutory-water",
   "metadata": {},
   "outputs": [],
   "source": [
    "p[2][0]"
   ]
  },
  {
   "cell_type": "code",
   "execution_count": null,
   "id": "framed-newman",
   "metadata": {},
   "outputs": [],
   "source": [
    "p.pop()"
   ]
  },
  {
   "cell_type": "code",
   "execution_count": null,
   "id": "durable-endorsement",
   "metadata": {},
   "outputs": [],
   "source": [
    "print(p)"
   ]
  },
  {
   "cell_type": "code",
   "execution_count": null,
   "id": "nearby-detector",
   "metadata": {},
   "outputs": [],
   "source": [
    "p.pop(12)"
   ]
  },
  {
   "cell_type": "code",
   "execution_count": null,
   "id": "caring-substance",
   "metadata": {},
   "outputs": [],
   "source": [
    "print(p)"
   ]
  },
  {
   "cell_type": "code",
   "execution_count": null,
   "id": "varying-america",
   "metadata": {},
   "outputs": [],
   "source": [
    "p.remove()"
   ]
  },
  {
   "cell_type": "code",
   "execution_count": null,
   "id": "opposed-characterization",
   "metadata": {},
   "outputs": [],
   "source": [
    "p.remove(12)"
   ]
  },
  {
   "cell_type": "code",
   "execution_count": null,
   "id": "reflected-destiny",
   "metadata": {},
   "outputs": [],
   "source": [
    "print(p)"
   ]
  },
  {
   "cell_type": "code",
   "execution_count": null,
   "id": "royal-relaxation",
   "metadata": {},
   "outputs": [],
   "source": [
    "p.reverse()"
   ]
  },
  {
   "cell_type": "code",
   "execution_count": null,
   "id": "closed-midwest",
   "metadata": {},
   "outputs": [],
   "source": [
    "print(p)"
   ]
  },
  {
   "cell_type": "code",
   "execution_count": null,
   "id": "invisible-freight",
   "metadata": {},
   "outputs": [],
   "source": [
    "print(p)"
   ]
  },
  {
   "cell_type": "code",
   "execution_count": null,
   "id": "desperate-compatibility",
   "metadata": {},
   "outputs": [],
   "source": [
    "p.sort()"
   ]
  },
  {
   "cell_type": "code",
   "execution_count": null,
   "id": "forced-blair",
   "metadata": {},
   "outputs": [],
   "source": [
    "k = [12,2000,30,2,1]\n",
    "k.sort()\n",
    "print(k)"
   ]
  },
  {
   "cell_type": "code",
   "execution_count": null,
   "id": "serial-crack",
   "metadata": {},
   "outputs": [],
   "source": [
    "print(k)"
   ]
  },
  {
   "cell_type": "code",
   "execution_count": null,
   "id": "downtown-bishop",
   "metadata": {},
   "outputs": [],
   "source": [
    "k.sorted(reverse=False)"
   ]
  },
  {
   "cell_type": "code",
   "execution_count": null,
   "id": "tropical-richmond",
   "metadata": {},
   "outputs": [],
   "source": [
    "k.sort(reverse=False)"
   ]
  },
  {
   "cell_type": "code",
   "execution_count": null,
   "id": "forced-horizon",
   "metadata": {},
   "outputs": [],
   "source": [
    "print(k)"
   ]
  },
  {
   "cell_type": "code",
   "execution_count": null,
   "id": "analyzed-annex",
   "metadata": {},
   "outputs": [],
   "source": [
    "sorted(k)"
   ]
  },
  {
   "cell_type": "code",
   "execution_count": null,
   "id": "republican-catholic",
   "metadata": {},
   "outputs": [],
   "source": [
    "k.sort(reverse=True)"
   ]
  },
  {
   "cell_type": "code",
   "execution_count": null,
   "id": "least-tuner",
   "metadata": {},
   "outputs": [],
   "source": [
    "print(k)"
   ]
  },
  {
   "cell_type": "code",
   "execution_count": null,
   "id": "arbitrary-washer",
   "metadata": {},
   "outputs": [],
   "source": [
    "p.clear()"
   ]
  },
  {
   "cell_type": "code",
   "execution_count": null,
   "id": "turkish-volleyball",
   "metadata": {},
   "outputs": [],
   "source": [
    "print(p)"
   ]
  },
  {
   "cell_type": "code",
   "execution_count": null,
   "id": "amino-berlin",
   "metadata": {},
   "outputs": [],
   "source": [
    "del p"
   ]
  },
  {
   "cell_type": "code",
   "execution_count": null,
   "id": "defined-constraint",
   "metadata": {},
   "outputs": [],
   "source": [
    "print(p)"
   ]
  },
  {
   "cell_type": "markdown",
   "id": "boolean-indicator",
   "metadata": {},
   "source": [
    "# Tuple:\n",
    "    -> It can stores Heterogeneous type of data type elements\n",
    "    -> ()\n",
    "    -> It can't changes the value\n",
    "    -> Index, Slicing can be done\n",
    "    -> It can allows duplicate elements"
   ]
  },
  {
   "cell_type": "code",
   "execution_count": null,
   "id": "periodic-repeat",
   "metadata": {},
   "outputs": [],
   "source": [
    "k = (1,56.00,'Prasad')"
   ]
  },
  {
   "cell_type": "code",
   "execution_count": null,
   "id": "fallen-gardening",
   "metadata": {},
   "outputs": [],
   "source": [
    "print(k)"
   ]
  },
  {
   "cell_type": "code",
   "execution_count": null,
   "id": "statistical-pierce",
   "metadata": {},
   "outputs": [],
   "source": [
    "print(k[2])"
   ]
  },
  {
   "cell_type": "code",
   "execution_count": null,
   "id": "right-split",
   "metadata": {},
   "outputs": [],
   "source": [
    "print(dir(tuple))"
   ]
  },
  {
   "cell_type": "code",
   "execution_count": null,
   "id": "competent-documentary",
   "metadata": {},
   "outputs": [],
   "source": [
    "m = (12,12,52.00,'Lalitha')"
   ]
  },
  {
   "cell_type": "code",
   "execution_count": null,
   "id": "approximate-kinase",
   "metadata": {},
   "outputs": [],
   "source": [
    "print(m)"
   ]
  },
  {
   "cell_type": "code",
   "execution_count": null,
   "id": "oriented-daughter",
   "metadata": {},
   "outputs": [],
   "source": [
    "print(type(m))"
   ]
  },
  {
   "cell_type": "code",
   "execution_count": null,
   "id": "utility-myanmar",
   "metadata": {},
   "outputs": [],
   "source": [
    "m.count(12)"
   ]
  },
  {
   "cell_type": "code",
   "execution_count": null,
   "id": "retired-spine",
   "metadata": {},
   "outputs": [],
   "source": [
    "m.index(12)"
   ]
  },
  {
   "cell_type": "markdown",
   "id": "applied-uzbekistan",
   "metadata": {},
   "source": [
    "# String:\n",
    "    -> ' ' or \" \"\n",
    "    -> different data types can be act as  string while those data types can be enclosed with ' or \"\n",
    "    -> index,slicing can be done"
   ]
  },
  {
   "cell_type": "code",
   "execution_count": null,
   "id": "chemical-poison",
   "metadata": {},
   "outputs": [],
   "source": [
    "d = \"APSSDC Programs\""
   ]
  },
  {
   "cell_type": "code",
   "execution_count": null,
   "id": "basic-avenue",
   "metadata": {},
   "outputs": [],
   "source": [
    "print(d,type(d))"
   ]
  },
  {
   "cell_type": "code",
   "execution_count": null,
   "id": "hundred-cliff",
   "metadata": {},
   "outputs": [],
   "source": [
    "for i in d:\n",
    "    print(i,type(i))"
   ]
  },
  {
   "cell_type": "code",
   "execution_count": null,
   "id": "dramatic-cable",
   "metadata": {},
   "outputs": [],
   "source": [
    "for i in range(len(d)):\n",
    "    print(d[i])\n",
    "    "
   ]
  },
  {
   "cell_type": "code",
   "execution_count": null,
   "id": "analyzed-moses",
   "metadata": {},
   "outputs": [],
   "source": [
    "print(d)\n",
    "print(d[0])\n",
    "print(d[5])\n",
    "print(d[-1])\n",
    "print(d[3:8])\n",
    "print(d[5:])\n",
    "print(d[:9])\n",
    "print(d[4:-3])\n",
    "print(d[-3:])\n",
    "print(d[-9:-2])\n",
    "print(d[-2:5])\n",
    "print(d[-2:-9])"
   ]
  },
  {
   "cell_type": "code",
   "execution_count": null,
   "id": "australian-lancaster",
   "metadata": {},
   "outputs": [],
   "source": [
    "print(d)\n",
    "print(d[::])\n",
    "print(d[5::])\n",
    "print(d[:9:])\n",
    "print(d[::3])\n",
    "print(d[::-3])\n",
    "print(d[2:9:2])\n",
    "print(d[2:-7:2])\n",
    "print(d[3:10:-2]) #\n",
    "print(d[-5::2])\n",
    "print(d[-2:-10:-2])\n",
    "print(d[-11:-3:2]) #\n",
    "print(d[::-1])"
   ]
  },
  {
   "cell_type": "code",
   "execution_count": null,
   "id": "solid-captain",
   "metadata": {},
   "outputs": [],
   "source": [
    "print(dir(str))"
   ]
  },
  {
   "cell_type": "code",
   "execution_count": null,
   "id": "verbal-links",
   "metadata": {},
   "outputs": [],
   "source": [
    "print(d)"
   ]
  },
  {
   "cell_type": "code",
   "execution_count": null,
   "id": "residential-grill",
   "metadata": {},
   "outputs": [],
   "source": [
    "print(d.capitalize())\n",
    "print(d.casefold())\n",
    "print(d.title())\n",
    "print(d.swapcase())"
   ]
  },
  {
   "cell_type": "markdown",
   "id": "addressed-yahoo",
   "metadata": {},
   "source": [
    "```\n",
    "Input:178468765\n",
    "#       567864871\n",
    "Output:Given numer is: 178468765\n",
    "       Its even numbers are: 8 4 6 8 6\n",
    "       Its odd numbers are: 1 7 7 5\n",
    "       Its even digit count is: 5\n",
    "       Its odd digit count is: 4\n",
    "       Its Even numbers sum is: ?\n",
    "       Its odd numbers sum is: ?\n",
    "```"
   ]
  },
  {
   "cell_type": "markdown",
   "id": "automatic-accessory",
   "metadata": {},
   "source": [
    "# 25-03-2021"
   ]
  },
  {
   "cell_type": "code",
   "execution_count": null,
   "id": "legal-electricity",
   "metadata": {},
   "outputs": [],
   "source": [
    "k = \"APSSDC Programs\""
   ]
  },
  {
   "cell_type": "code",
   "execution_count": null,
   "id": "african-ending",
   "metadata": {},
   "outputs": [],
   "source": [
    "print(dir(k))"
   ]
  },
  {
   "cell_type": "code",
   "execution_count": null,
   "id": "dominican-extreme",
   "metadata": {},
   "outputs": [],
   "source": [
    "print(k)\n",
    "print(k.lower())\n",
    "print(k.upper())"
   ]
  },
  {
   "cell_type": "code",
   "execution_count": null,
   "id": "legendary-colleague",
   "metadata": {},
   "outputs": [],
   "source": [
    "print(k.count('s'))\n",
    "print(k.find('S'))\n",
    "print(k.find('z'))\n",
    "print(k.rfind('s'))\n",
    "print(k.rfind('S'))\n",
    "print(k.rfind('z'))\n",
    "print(k.index('S'))\n",
    "# print(k.index('Z'))\n",
    "print(k.rindex('S'))\n",
    "print(k.rindex('z'))"
   ]
  },
  {
   "cell_type": "code",
   "execution_count": null,
   "id": "large-chair",
   "metadata": {},
   "outputs": [],
   "source": [
    "m = input()\n",
    "print(m)\n",
    "print(m.split())\n"
   ]
  },
  {
   "cell_type": "code",
   "execution_count": null,
   "id": "hungry-cycling",
   "metadata": {},
   "outputs": [],
   "source": [
    "l = input().split('5')\n",
    "print(l)\n",
    "m = []\n",
    "for i in l:\n",
    "    if i != \"\":\n",
    "        m.append(i)\n",
    "print(m)"
   ]
  },
  {
   "cell_type": "code",
   "execution_count": null,
   "id": "fossil-restoration",
   "metadata": {},
   "outputs": [],
   "source": [
    "print(k)\n",
    "m = \"+\".join(k)\n",
    "print(k)\n",
    "print(m)"
   ]
  },
  {
   "cell_type": "code",
   "execution_count": null,
   "id": "english-boulder",
   "metadata": {},
   "outputs": [],
   "source": [
    "print(k)\n",
    "print(k.replace('S','[]'))"
   ]
  },
  {
   "cell_type": "code",
   "execution_count": null,
   "id": "rolled-intensity",
   "metadata": {},
   "outputs": [],
   "source": [
    "l = input().split('q')\n",
    "k = input().rsplit('r')\n",
    "print(l)\n",
    "print(k)"
   ]
  },
  {
   "cell_type": "code",
   "execution_count": null,
   "id": "raised-saturday",
   "metadata": {},
   "outputs": [],
   "source": [
    "m = \"APSSDC Programs   List    \"\n",
    "n = \"    APSSDC Programs    List\"\n",
    "print(m)\n",
    "print(n)"
   ]
  },
  {
   "cell_type": "markdown",
   "id": "several-showcase",
   "metadata": {},
   "source": [
    "# Dictionaries"
   ]
  },
  {
   "cell_type": "code",
   "execution_count": null,
   "id": "remarkable-vertex",
   "metadata": {},
   "outputs": [],
   "source": [
    "# unorder key value pairs\n",
    "# represent in {}\n",
    "# methods\n"
   ]
  },
  {
   "cell_type": "code",
   "execution_count": null,
   "id": "severe-groove",
   "metadata": {},
   "outputs": [],
   "source": [
    "dir(dict)\n"
   ]
  },
  {
   "cell_type": "code",
   "execution_count": null,
   "id": "available-oriental",
   "metadata": {},
   "outputs": [],
   "source": [
    "dir(str)"
   ]
  },
  {
   "cell_type": "code",
   "execution_count": null,
   "id": "advised-promotion",
   "metadata": {},
   "outputs": [],
   "source": [
    "dir(dict)"
   ]
  },
  {
   "cell_type": "code",
   "execution_count": null,
   "id": "immediate-patient",
   "metadata": {},
   "outputs": [],
   "source": [
    "d={}"
   ]
  },
  {
   "cell_type": "code",
   "execution_count": null,
   "id": "deadly-leonard",
   "metadata": {},
   "outputs": [],
   "source": [
    "type(d)"
   ]
  },
  {
   "cell_type": "code",
   "execution_count": null,
   "id": "canadian-filename",
   "metadata": {},
   "outputs": [],
   "source": [
    "d={\"name\":\"Sai\",\"Roll\":\"11af55\",\"age\":22}"
   ]
  },
  {
   "cell_type": "code",
   "execution_count": null,
   "id": "designing-norway",
   "metadata": {},
   "outputs": [],
   "source": [
    "print(d)"
   ]
  },
  {
   "cell_type": "code",
   "execution_count": null,
   "id": "oriental-prospect",
   "metadata": {},
   "outputs": [],
   "source": [
    "d.items()"
   ]
  },
  {
   "cell_type": "code",
   "execution_count": null,
   "id": "textile-mouth",
   "metadata": {},
   "outputs": [],
   "source": [
    "d.values()"
   ]
  },
  {
   "cell_type": "code",
   "execution_count": null,
   "id": "seeing-girlfriend",
   "metadata": {},
   "outputs": [],
   "source": [
    "d.keys()"
   ]
  },
  {
   "cell_type": "code",
   "execution_count": null,
   "id": "instrumental-auction",
   "metadata": {},
   "outputs": [],
   "source": [
    "d.get('name')"
   ]
  },
  {
   "cell_type": "code",
   "execution_count": null,
   "id": "boring-linux",
   "metadata": {},
   "outputs": [],
   "source": [
    "d.setdefault(\"a1\")"
   ]
  },
  {
   "cell_type": "code",
   "execution_count": null,
   "id": "studied-loading",
   "metadata": {},
   "outputs": [],
   "source": [
    "d"
   ]
  },
  {
   "cell_type": "code",
   "execution_count": null,
   "id": "attractive-coverage",
   "metadata": {},
   "outputs": [],
   "source": [
    "d[\"a2\"]=22\n"
   ]
  },
  {
   "cell_type": "code",
   "execution_count": null,
   "id": "raising-glass",
   "metadata": {},
   "outputs": [],
   "source": [
    "d"
   ]
  },
  {
   "cell_type": "code",
   "execution_count": null,
   "id": "compound-company",
   "metadata": {},
   "outputs": [],
   "source": [
    "d['a2']=33\n"
   ]
  },
  {
   "cell_type": "code",
   "execution_count": null,
   "id": "rural-louisiana",
   "metadata": {},
   "outputs": [],
   "source": [
    "d"
   ]
  },
  {
   "cell_type": "code",
   "execution_count": null,
   "id": "front-police",
   "metadata": {},
   "outputs": [],
   "source": [
    "s={\"a3\":5}"
   ]
  },
  {
   "cell_type": "code",
   "execution_count": null,
   "id": "silver-vintage",
   "metadata": {},
   "outputs": [],
   "source": [
    "d.update(s)"
   ]
  },
  {
   "cell_type": "code",
   "execution_count": null,
   "id": "occasional-thermal",
   "metadata": {},
   "outputs": [],
   "source": [
    "d"
   ]
  },
  {
   "cell_type": "code",
   "execution_count": null,
   "id": "breeding-radar",
   "metadata": {},
   "outputs": [],
   "source": [
    "d.popitem()"
   ]
  },
  {
   "cell_type": "code",
   "execution_count": null,
   "id": "aerial-stick",
   "metadata": {},
   "outputs": [],
   "source": [
    "d.pop('age')"
   ]
  },
  {
   "cell_type": "code",
   "execution_count": null,
   "id": "sudden-attribute",
   "metadata": {},
   "outputs": [],
   "source": [
    "d"
   ]
  },
  {
   "cell_type": "code",
   "execution_count": null,
   "id": "further-sacramento",
   "metadata": {},
   "outputs": [],
   "source": [
    "# Task_1\n",
    "# read 6 elements from user and find frequency count of elemnts \n",
    "# input: 5 6 5 6 2 1\n",
    "# output {5:2,6:2,2:1,1:1}"
   ]
  },
  {
   "cell_type": "code",
   "execution_count": null,
   "id": "covered-traffic",
   "metadata": {},
   "outputs": [],
   "source": [
    "# task_2\n",
    "# print the keys ..if the value second letter is a\n",
    "# input {\"name1\":\"sai\",\"name2\":\"mani\",\"name3\":\"suhas\"}\n",
    "# output [name1,name2]"
   ]
  },
  {
   "cell_type": "code",
   "execution_count": null,
   "id": "discrete-nomination",
   "metadata": {},
   "outputs": [],
   "source": [
    "l1=[]\n",
    "c={}\n",
    "l=input().split()\n",
    "for i in l:\n",
    "    if i not in l1:               # 5 6 5 6 2 1\n",
    "        l1.append(int(i))\n",
    "        c[int(i)]=l.count(i)\n",
    "print(c)            "
   ]
  },
  {
   "cell_type": "code",
   "execution_count": 6,
   "id": "pressing-stretch",
   "metadata": {},
   "outputs": [
    {
     "name": "stdout",
     "output_type": "stream",
     "text": [
      "5 6 5 6 2 1\n",
      "{5: 2, 6: 2, 2: 1, 1: 1}\n"
     ]
    }
   ],
   "source": [
    "d=input().split(\" \")\n",
    "f={}\n",
    "for i in d:\n",
    "    if int(i) in f:\n",
    "        f[int(i)]+=1\n",
    "    else:\n",
    "        f[int(i)]=1\n",
    "print(f)"
   ]
  },
  {
   "cell_type": "code",
   "execution_count": 9,
   "id": "fiscal-leader",
   "metadata": {},
   "outputs": [
    {
     "name": "stdout",
     "output_type": "stream",
     "text": [
      "1 2 3 1 2 5\n",
      "{1: 2, 2: 2, 3: 1, 5: 1}\n"
     ]
    }
   ],
   "source": [
    "d1=input().split(\" \")\n",
    "f1={}\n",
    "for i in d1:\n",
    "    f1[int(i)]=d1.count(i)\n",
    "print(f1)"
   ]
  },
  {
   "cell_type": "markdown",
   "id": "spiritual-boring",
   "metadata": {},
   "source": [
    "# sets\n",
    "    -> Unordered data \n",
    "    -> Duplicates will not allow\n",
    "    -> {}\n",
    "    -> Indexing will not be present, slicing cant be done\n",
    "    -> It can changes the values\n",
    "    "
   ]
  },
  {
   "cell_type": "code",
   "execution_count": 11,
   "id": "signal-margin",
   "metadata": {},
   "outputs": [
    {
     "name": "stdout",
     "output_type": "stream",
     "text": [
      "<class 'set'>\n"
     ]
    }
   ],
   "source": [
    "r = {9}\n",
    "print(type(r))"
   ]
  },
  {
   "cell_type": "code",
   "execution_count": 12,
   "id": "collect-paintball",
   "metadata": {},
   "outputs": [
    {
     "name": "stdout",
     "output_type": "stream",
     "text": [
      "['__and__', '__class__', '__contains__', '__delattr__', '__dir__', '__doc__', '__eq__', '__format__', '__ge__', '__getattribute__', '__gt__', '__hash__', '__iand__', '__init__', '__init_subclass__', '__ior__', '__isub__', '__iter__', '__ixor__', '__le__', '__len__', '__lt__', '__ne__', '__new__', '__or__', '__rand__', '__reduce__', '__reduce_ex__', '__repr__', '__ror__', '__rsub__', '__rxor__', '__setattr__', '__sizeof__', '__str__', '__sub__', '__subclasshook__', '__xor__', 'add', 'clear', 'copy', 'difference', 'difference_update', 'discard', 'intersection', 'intersection_update', 'isdisjoint', 'issubset', 'issuperset', 'pop', 'remove', 'symmetric_difference', 'symmetric_difference_update', 'union', 'update']\n"
     ]
    }
   ],
   "source": [
    "print(dir(set))"
   ]
  },
  {
   "cell_type": "code",
   "execution_count": 16,
   "id": "eight-nightmare",
   "metadata": {},
   "outputs": [
    {
     "name": "stdout",
     "output_type": "stream",
     "text": [
      "{2, 2.76, 5, 6, 'rajesh', 'somu', 'ramu'}\n"
     ]
    }
   ],
   "source": [
    "s = {2,5,6,2.00,2.76,'rajesh','ramu','somu'}\n",
    "print(s)"
   ]
  },
  {
   "cell_type": "code",
   "execution_count": 18,
   "id": "verified-alert",
   "metadata": {},
   "outputs": [
    {
     "ename": "TypeError",
     "evalue": "unhashable type: 'list'",
     "output_type": "error",
     "traceback": [
      "\u001b[1;31m---------------------------------------------------------------------------\u001b[0m",
      "\u001b[1;31mTypeError\u001b[0m                                 Traceback (most recent call last)",
      "\u001b[1;32m<ipython-input-18-090410d3d891>\u001b[0m in \u001b[0;36m<module>\u001b[1;34m\u001b[0m\n\u001b[1;32m----> 1\u001b[1;33m \u001b[0ms\u001b[0m\u001b[1;33m.\u001b[0m\u001b[0madd\u001b[0m\u001b[1;33m(\u001b[0m\u001b[1;33m[\u001b[0m\u001b[1;36m4\u001b[0m\u001b[1;33m,\u001b[0m\u001b[1;36m5\u001b[0m\u001b[1;33m,\u001b[0m\u001b[1;36m45\u001b[0m\u001b[1;33m]\u001b[0m\u001b[1;33m)\u001b[0m\u001b[1;33m\u001b[0m\u001b[1;33m\u001b[0m\u001b[0m\n\u001b[0m",
      "\u001b[1;31mTypeError\u001b[0m: unhashable type: 'list'"
     ]
    }
   ],
   "source": [
    "s.add([4,5,45])"
   ]
  },
  {
   "cell_type": "code",
   "execution_count": 19,
   "id": "initial-burns",
   "metadata": {},
   "outputs": [],
   "source": [
    "s.add(2)"
   ]
  },
  {
   "cell_type": "code",
   "execution_count": 20,
   "id": "asian-session",
   "metadata": {},
   "outputs": [
    {
     "data": {
      "text/plain": [
       "{2, 2.76, 5, 6, 'rajesh', 'ramu', 'somu'}"
      ]
     },
     "execution_count": 20,
     "metadata": {},
     "output_type": "execute_result"
    }
   ],
   "source": [
    "s"
   ]
  },
  {
   "cell_type": "code",
   "execution_count": 21,
   "id": "heated-sarah",
   "metadata": {},
   "outputs": [
    {
     "name": "stdout",
     "output_type": "stream",
     "text": [
      "{2, 2.76, 5, 6, 'rajesh', 'somu', 'ramu'}\n"
     ]
    }
   ],
   "source": [
    "print(s)"
   ]
  },
  {
   "cell_type": "code",
   "execution_count": 22,
   "id": "alike-france",
   "metadata": {},
   "outputs": [
    {
     "ename": "TypeError",
     "evalue": "unhashable type: 'set'",
     "output_type": "error",
     "traceback": [
      "\u001b[1;31m---------------------------------------------------------------------------\u001b[0m",
      "\u001b[1;31mTypeError\u001b[0m                                 Traceback (most recent call last)",
      "\u001b[1;32m<ipython-input-22-c56346212818>\u001b[0m in \u001b[0;36m<module>\u001b[1;34m\u001b[0m\n\u001b[0;32m      1\u001b[0m \u001b[0ms2\u001b[0m\u001b[1;33m=\u001b[0m\u001b[1;33m{\u001b[0m\u001b[1;36m2\u001b[0m\u001b[1;33m,\u001b[0m\u001b[1;36m200\u001b[0m\u001b[1;33m,\u001b[0m\u001b[1;36m30\u001b[0m\u001b[1;33m,\u001b[0m\u001b[1;36m300\u001b[0m\u001b[1;33m}\u001b[0m\u001b[1;33m\u001b[0m\u001b[1;33m\u001b[0m\u001b[0m\n\u001b[1;32m----> 2\u001b[1;33m \u001b[0ms\u001b[0m\u001b[1;33m.\u001b[0m\u001b[0madd\u001b[0m\u001b[1;33m(\u001b[0m\u001b[0ms2\u001b[0m\u001b[1;33m)\u001b[0m\u001b[1;33m\u001b[0m\u001b[1;33m\u001b[0m\u001b[0m\n\u001b[0m",
      "\u001b[1;31mTypeError\u001b[0m: unhashable type: 'set'"
     ]
    }
   ],
   "source": [
    "s2={2,200,30,300}\n",
    "s.add(s2)"
   ]
  },
  {
   "cell_type": "code",
   "execution_count": 23,
   "id": "recorded-bangladesh",
   "metadata": {},
   "outputs": [],
   "source": [
    "s.add(200)"
   ]
  },
  {
   "cell_type": "code",
   "execution_count": 26,
   "id": "bizarre-brooks",
   "metadata": {},
   "outputs": [
    {
     "name": "stdout",
     "output_type": "stream",
     "text": [
      "{2, 2.76, 5, 6, 200, 'rajesh', 'somu', 'ramu'}\n",
      "{2, 2.76, 5, 6, 200, 'rajesh', 'somu', 'ramu'}\n"
     ]
    }
   ],
   "source": [
    "print(s)\n",
    "s.add(200)\n",
    "print(s)"
   ]
  },
  {
   "cell_type": "code",
   "execution_count": 27,
   "id": "treated-martin",
   "metadata": {},
   "outputs": [
    {
     "name": "stdout",
     "output_type": "stream",
     "text": [
      "[1, 2, 22, 30] <class 'list'>\n"
     ]
    }
   ],
   "source": [
    "p = [1,2,2,1,1,1,1,1,1,1,1,2,2,2,2,2,22,2,30]\n",
    "t=list(set(p))\n",
    "print(t,type(t))"
   ]
  },
  {
   "cell_type": "code",
   "execution_count": 30,
   "id": "spanish-simple",
   "metadata": {},
   "outputs": [
    {
     "name": "stdout",
     "output_type": "stream",
     "text": [
      "{2, 2.76, 5, 6, 200, 'rajesh', 'somu', 'ramu'}\n"
     ]
    }
   ],
   "source": [
    "s.add(2)\n",
    "print(s)"
   ]
  },
  {
   "cell_type": "code",
   "execution_count": 31,
   "id": "aging-dealing",
   "metadata": {},
   "outputs": [
    {
     "name": "stdout",
     "output_type": "stream",
     "text": [
      "{2, 5, 6, 9, 10}\n",
      "{1, 5, 8, 9, 10, 40, 51, 20, 30}\n",
      "{1, 2, 5, 6, 8, 9, 10, 40, 51, 20, 30}\n",
      "{2, 5, 6, 9, 10}\n",
      "{1, 5, 8, 9, 10, 40, 51, 20, 30}\n"
     ]
    }
   ],
   "source": [
    "s1 = {2,5,6,9,10}\n",
    "s2 = {1,5,8,9,10,20,30,51,40}\n",
    "print(s1)\n",
    "print(s2)\n",
    "k=s1.union(s2)\n",
    "print(k)\n",
    "print(s1)\n",
    "print(s2)"
   ]
  },
  {
   "cell_type": "code",
   "execution_count": 32,
   "id": "recorded-maryland",
   "metadata": {},
   "outputs": [
    {
     "name": "stdout",
     "output_type": "stream",
     "text": [
      "{2, 5, 6, 9, 10}\n",
      "{1, 5, 8, 9, 10, 40, 51, 20, 30}\n",
      "{1, 2, 5, 6, 8, 9, 10, 40, 51, 20, 30}\n",
      "{1, 5, 8, 9, 10, 40, 51, 20, 30}\n"
     ]
    }
   ],
   "source": [
    "s1 = {2,5,6,9,10}\n",
    "s2 = {1,5,8,9,10,20,30,51,40}\n",
    "print(s1)\n",
    "print(s2)\n",
    "s1=s1.union(s2)\n",
    "print(s1)\n",
    "print(s2)"
   ]
  },
  {
   "cell_type": "code",
   "execution_count": 34,
   "id": "premium-auction",
   "metadata": {},
   "outputs": [
    {
     "name": "stdout",
     "output_type": "stream",
     "text": [
      "{2, 5, 6, 9, 10}\n",
      "{1, 5, 8, 9, 10, 40, 51, 20, 30}\n",
      "{9, 10, 5}\n",
      "{1, 5, 8, 9, 10, 40, 51, 20, 30}\n"
     ]
    }
   ],
   "source": [
    "s1 = {2,5,6,9,10}\n",
    "s2 = {1,5,8,9,10,20,30,51,40}\n",
    "print(s1)\n",
    "print(s2)\n",
    "s1=s1.intersection(s2)\n",
    "print(s1)\n",
    "print(s2)"
   ]
  },
  {
   "cell_type": "code",
   "execution_count": 36,
   "id": "lovely-giant",
   "metadata": {},
   "outputs": [
    {
     "name": "stdout",
     "output_type": "stream",
     "text": [
      "{2, 5, 6, 9, 10}\n",
      "{1, 5, 8, 9, 10, 40, 51, 20, 30}\n",
      "{2, 6}\n",
      "{1, 5, 8, 9, 10, 40, 51, 20, 30}\n"
     ]
    }
   ],
   "source": [
    "s1 = {2,5,6,9,10}\n",
    "s2 = {1,5,8,9,10,20,30,51,40}\n",
    "print(s1)\n",
    "print(s2)\n",
    "s1=s1.difference(s2)\n",
    "print(s1)\n",
    "print(s2)"
   ]
  },
  {
   "cell_type": "code",
   "execution_count": 38,
   "id": "therapeutic-forest",
   "metadata": {},
   "outputs": [
    {
     "name": "stdout",
     "output_type": "stream",
     "text": [
      "{2, 5, 6, 9, 10}\n",
      "{1, 5, 8, 9, 10, 40, 51, 20, 30}\n",
      "{2, 6}\n",
      "{1, 5, 8, 9, 10, 40, 51, 20, 30}\n"
     ]
    }
   ],
   "source": [
    "s1 = {2,5,6,9,10}\n",
    "s2 = {1,5,8,9,10,20,30,51,40}\n",
    "print(s1)\n",
    "print(s2)\n",
    "s1.difference_update(s2)\n",
    "# print(k)\n",
    "print(s1)\n",
    "print(s2)"
   ]
  },
  {
   "cell_type": "code",
   "execution_count": 62,
   "id": "hearing-bracket",
   "metadata": {},
   "outputs": [
    {
     "name": "stdout",
     "output_type": "stream",
     "text": [
      "{1, 5, 8, 9, 10, 40, 51, 20, 30}\n"
     ]
    }
   ],
   "source": [
    "s2 = {1,5,8,9,10,20,30,51,40}\n",
    "print(s2)"
   ]
  },
  {
   "cell_type": "code",
   "execution_count": 57,
   "id": "banner-apparel",
   "metadata": {},
   "outputs": [
    {
     "name": "stdout",
     "output_type": "stream",
     "text": [
      "{1, 5, 8, 9, 10, 40, 51, 20, 30}\n",
      "{5, 8, 9, 10, 40, 51, 20, 30}\n",
      "{5, 8, 9, 10, 51, 20, 30}\n"
     ]
    }
   ],
   "source": [
    "print(s2)\n",
    "s2.pop()\n",
    "print(s2)\n",
    "s2.remove(40)\n",
    "print(s2)"
   ]
  },
  {
   "cell_type": "code",
   "execution_count": 63,
   "id": "subject-supplement",
   "metadata": {},
   "outputs": [
    {
     "name": "stdout",
     "output_type": "stream",
     "text": [
      "{1, 5, 8, 9, 10, 40, 51, 20, 30}\n",
      "{1, 5, 8, 9, 10, 40, 20, 30}\n"
     ]
    }
   ],
   "source": [
    "print(s2)\n",
    "s2.discard(51)\n",
    "print(s2)"
   ]
  },
  {
   "cell_type": "code",
   "execution_count": null,
   "id": "configured-organic",
   "metadata": {},
   "outputs": [],
   "source": []
  },
  {
   "cell_type": "code",
   "execution_count": null,
   "id": "necessary-cassette",
   "metadata": {},
   "outputs": [],
   "source": []
  },
  {
   "cell_type": "code",
   "execution_count": null,
   "id": "searching-mineral",
   "metadata": {},
   "outputs": [],
   "source": [
    "# Functions\n",
    "# user defined\n",
    "# pre defined\n",
    "# "
   ]
  }
 ],
 "metadata": {
  "kernelspec": {
   "display_name": "Python 3",
   "language": "python",
   "name": "python3"
  },
  "language_info": {
   "codemirror_mode": {
    "name": "ipython",
    "version": 3
   },
   "file_extension": ".py",
   "mimetype": "text/x-python",
   "name": "python",
   "nbconvert_exporter": "python",
   "pygments_lexer": "ipython3",
   "version": "3.7.4"
  }
 },
 "nbformat": 4,
 "nbformat_minor": 5
}
