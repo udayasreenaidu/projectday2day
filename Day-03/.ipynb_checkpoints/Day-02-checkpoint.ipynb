{
 "cells": [
  {
   "cell_type": "code",
   "execution_count": 3,
   "id": "precious-arlington",
   "metadata": {},
   "outputs": [
    {
     "name": "stdout",
     "output_type": "stream",
     "text": [
      "Hello\n"
     ]
    }
   ],
   "source": [
    "print(\"Hello\")"
   ]
  },
  {
   "cell_type": "code",
   "execution_count": 14,
   "id": "stunning-chest",
   "metadata": {},
   "outputs": [],
   "source": [
    "a=3"
   ]
  },
  {
   "cell_type": "markdown",
   "id": "periodic-process",
   "metadata": {},
   "source": [
    "# Variables:\n",
    "    -> To stores a value and it can changes the value"
   ]
  },
  {
   "cell_type": "code",
   "execution_count": 5,
   "id": "executive-consideration",
   "metadata": {},
   "outputs": [],
   "source": [
    "a = 23"
   ]
  },
  {
   "cell_type": "code",
   "execution_count": 6,
   "id": "usual-truth",
   "metadata": {},
   "outputs": [
    {
     "data": {
      "text/plain": [
       "int"
      ]
     },
     "execution_count": 6,
     "metadata": {},
     "output_type": "execute_result"
    }
   ],
   "source": [
    "type(a)"
   ]
  },
  {
   "cell_type": "code",
   "execution_count": 7,
   "id": "derived-fight",
   "metadata": {},
   "outputs": [
    {
     "name": "stdout",
     "output_type": "stream",
     "text": [
      "<class 'int'>\n"
     ]
    }
   ],
   "source": [
    "print(type(a))"
   ]
  },
  {
   "cell_type": "code",
   "execution_count": 8,
   "id": "moved-concord",
   "metadata": {},
   "outputs": [
    {
     "name": "stdout",
     "output_type": "stream",
     "text": [
      "<class 'float'>\n"
     ]
    }
   ],
   "source": [
    "b = 56.0000\n",
    "print(type(b))"
   ]
  },
  {
   "cell_type": "code",
   "execution_count": 10,
   "id": "leading-bishop",
   "metadata": {},
   "outputs": [
    {
     "name": "stdout",
     "output_type": "stream",
     "text": [
      "56 96\n"
     ]
    }
   ],
   "source": [
    "a = 56\n",
    "b = 96\n",
    "print(a,b)"
   ]
  },
  {
   "cell_type": "code",
   "execution_count": 11,
   "id": "shared-basket",
   "metadata": {},
   "outputs": [
    {
     "name": "stdout",
     "output_type": "stream",
     "text": [
      "<class 'int'> <class 'str'>\n"
     ]
    }
   ],
   "source": [
    "w = 56\n",
    "p = '4564'\n",
    "print(type(w),type(p))"
   ]
  },
  {
   "cell_type": "code",
   "execution_count": 12,
   "id": "arbitrary-maximum",
   "metadata": {},
   "outputs": [
    {
     "data": {
      "text/plain": [
       "56"
      ]
     },
     "execution_count": 12,
     "metadata": {},
     "output_type": "execute_result"
    }
   ],
   "source": [
    "a"
   ]
  },
  {
   "cell_type": "code",
   "execution_count": 18,
   "id": "native-giant",
   "metadata": {},
   "outputs": [
    {
     "data": {
      "text/plain": [
       "56"
      ]
     },
     "execution_count": 18,
     "metadata": {},
     "output_type": "execute_result"
    }
   ],
   "source": [
    "a = '56.324558'\n",
    "int(float(str(a)))"
   ]
  },
  {
   "cell_type": "markdown",
   "id": "through-amber",
   "metadata": {},
   "source": [
    "# Data Types\n",
    "    -> int,float,string,complex"
   ]
  },
  {
   "cell_type": "markdown",
   "id": "experimental-penguin",
   "metadata": {},
   "source": [
    "## Operators:\n",
    "    - Assignment -> +=,-=,*=,/=,%=\n",
    "    - Bitwise -> &,|\n",
    "    - Logical -> &&(AND),||(OR),^(XOR)\n",
    "    - Relational -> ==,!=,>=,<=,>>,<<\n",
    "    - Arithmetic -> +,-,*,/,%,//(floor Division),**(power)\n",
    "    - Membersip -> in,not in\n",
    "    - Identitiy -> is,is not"
   ]
  },
  {
   "cell_type": "markdown",
   "id": "sound-final",
   "metadata": {},
   "source": [
    "# Conditional Statements: \n",
    "    -> To check whether a given condition is either True or False"
   ]
  },
  {
   "cell_type": "markdown",
   "id": "handled-heather",
   "metadata": {},
   "source": [
    "   ```\n",
    "    - if -> 1 case\n",
    "    syntax:\n",
    "        if condition:\n",
    "            //stmnt\n",
    "            \n",
    "    - elif -> 2 or more cases\n",
    "    syntax:\n",
    "        if condition-1:\n",
    "            //stmnt-1\n",
    "        elif condition-2:\n",
    "            //stmnt-2\n",
    "        elif condition-n:\n",
    "            //stmnt-n\n",
    "            | | | |\n",
    "        else:\n",
    "            //stmnt(n-1)\n",
    "            \n",
    "    - if-else -> 2 cases\n",
    "    syntax:\n",
    "        if condition:\n",
    "            // True stmnt\n",
    "        else:\n",
    "            // False stmnt\n",
    "    - nested if -> logical operators\n",
    "    syntax:\n",
    "        if condition-1:\n",
    "            if condition-2:\n",
    "                //stmnt-1\n",
    "        \n",
    "        if condition-1 logical operators condition-2:\n",
    "            //stmnt\n",
    "```"
   ]
  },
  {
   "cell_type": "markdown",
   "id": "convertible-anthropology",
   "metadata": {},
   "source": [
    "# Markdown Format Syntax:"
   ]
  },
  {
   "cell_type": "markdown",
   "id": "early-explorer",
   "metadata": {},
   "source": [
    "# Heading:"
   ]
  },
  {
   "cell_type": "markdown",
   "id": "comparative-officer",
   "metadata": {},
   "source": [
    "# H1\n",
    "## H2\n",
    "### H3\n",
    "#### H4\n",
    "##### H5\n",
    "###### H6\n",
    "####### H7"
   ]
  },
  {
   "cell_type": "markdown",
   "id": "stopped-village",
   "metadata": {},
   "source": [
    "**This is for bold**"
   ]
  },
  {
   "cell_type": "markdown",
   "id": "unavailable-quest",
   "metadata": {},
   "source": [
    "__This is another way for bold__"
   ]
  },
  {
   "cell_type": "markdown",
   "id": "formal-essence",
   "metadata": {},
   "source": [
    "*This is itlaic*"
   ]
  },
  {
   "cell_type": "markdown",
   "id": "bigger-replication",
   "metadata": {},
   "source": [
    "_This is another way for italic_"
   ]
  },
  {
   "cell_type": "markdown",
   "id": "consolidated-delta",
   "metadata": {},
   "source": [
    "~~This for strike through~~"
   ]
  },
  {
   "cell_type": "markdown",
   "id": "absent-france",
   "metadata": {},
   "source": [
    "**This is for nested _italic_ or bold**"
   ]
  },
  {
   "cell_type": "markdown",
   "id": "hungarian-precipitation",
   "metadata": {},
   "source": [
    "***This is for all bold and italic***"
   ]
  },
  {
   "cell_type": "markdown",
   "id": "defensive-worker",
   "metadata": {},
   "source": [
    "## Quoting Text"
   ]
  },
  {
   "cell_type": "markdown",
   "id": "nutritional-shift",
   "metadata": {},
   "source": [
    "> This is for quoting text example sdb kjsa fkaskj dfksja dfkjsd kfljsdak jfksja fdgfoijsoidf josijof iso hdfuhs djhfskzjh flhs dkjhfksjhfkjshzdkjf"
   ]
  },
  {
   "cell_type": "markdown",
   "id": "forbidden-ceremony",
   "metadata": {},
   "source": [
    "## Quoting Code"
   ]
  },
  {
   "cell_type": "markdown",
   "id": "mounted-mentor",
   "metadata": {},
   "source": [
    "This is `quoting code` example"
   ]
  },
  {
   "cell_type": "markdown",
   "id": "adaptive-calibration",
   "metadata": {},
   "source": [
    "``\n",
    "similar for coding\n",
    "we can use this format\n",
    "``"
   ]
  },
  {
   "cell_type": "markdown",
   "id": "rocky-communications",
   "metadata": {},
   "source": [
    "```sdfsdf\n",
    "sdfsdfsdf\n",
    "sdfsdfsdf```"
   ]
  },
  {
   "cell_type": "markdown",
   "id": "outstanding-participation",
   "metadata": {},
   "source": [
    "## Links"
   ]
  },
  {
   "cell_type": "markdown",
   "id": "about-penny",
   "metadata": {},
   "source": [
    "This is for google page [click here to go for google](https://google.com)"
   ]
  },
  {
   "cell_type": "markdown",
   "id": "inclusive-accent",
   "metadata": {},
   "source": [
    "Relative link [click to view](./sample.text)"
   ]
  },
  {
   "cell_type": "markdown",
   "id": "alert-boost",
   "metadata": {},
   "source": [
    "## Lists"
   ]
  },
  {
   "cell_type": "markdown",
   "id": "biological-detector",
   "metadata": {},
   "source": [
    "- Chapter-1\n",
    "    - sub chapter-1.1\n",
    "        - sub topic"
   ]
  },
  {
   "cell_type": "code",
   "execution_count": 6,
   "id": "regular-element",
   "metadata": {},
   "outputs": [
    {
     "name": "stdout",
     "output_type": "stream",
     "text": [
      "ramu\n",
      "Ramu\n"
     ]
    }
   ],
   "source": [
    "# t = \"ramu\"\n",
    "t = input()\n",
    "if t == \"ramu\":\n",
    "    print(\"Ramu\")"
   ]
  },
  {
   "cell_type": "markdown",
   "id": "instrumental-suicide",
   "metadata": {},
   "source": [
    "## Input\n",
    "input() -> By default it stores only string format of data"
   ]
  },
  {
   "cell_type": "code",
   "execution_count": 7,
   "id": "alike-photograph",
   "metadata": {},
   "outputs": [
    {
     "name": "stdout",
     "output_type": "stream",
     "text": [
      "12\n",
      "<class 'str'>\n"
     ]
    }
   ],
   "source": [
    "f = input()\n",
    "print(type(f))"
   ]
  },
  {
   "cell_type": "code",
   "execution_count": 10,
   "id": "intimate-ethics",
   "metadata": {},
   "outputs": [
    {
     "name": "stdout",
     "output_type": "stream",
     "text": [
      "4\n",
      "Given number 4 is even\n"
     ]
    }
   ],
   "source": [
    "y = int(input())\n",
    "if y%2==0:\n",
    "    print(\"Given number %d is even\"%y)"
   ]
  },
  {
   "cell_type": "markdown",
   "id": "closing-arrival",
   "metadata": {},
   "source": [
    "## Output Formats"
   ]
  },
  {
   "cell_type": "markdown",
   "id": "civilian-lender",
   "metadata": {},
   "source": [
    "```\n",
    "-> % -> print(\"%d\"%variablename)\n",
    "-> .format -> print(\"{}\".format(variablename))\n",
    "```"
   ]
  },
  {
   "cell_type": "code",
   "execution_count": 11,
   "id": "local-queens",
   "metadata": {},
   "outputs": [
    {
     "name": "stdout",
     "output_type": "stream",
     "text": [
      "23\n",
      "Given number 23 is odd\n"
     ]
    }
   ],
   "source": [
    "y = int(input())\n",
    "if y%2==0:\n",
    "    print(\"Given number %d is even\"%y)\n",
    "else:\n",
    "    print(\"Given number {} is odd\".format(y))"
   ]
  },
  {
   "cell_type": "markdown",
   "id": "patient-fields",
   "metadata": {},
   "source": [
    "# Control Statements:\n",
    "    -> To control the flow of exection untill the condition fails\n",
    "    -> for -> particular range\n",
    "    Syntax:\n",
    "        for iteration_variable in iterator:\n",
    "            //stmnts\n",
    "            \n",
    "    -> while -> particular range and for unknown ranges also \n",
    "    Syntax:() -> optional cases\n",
    "        initialization:\n",
    "        while condition:\n",
    "            //stmnts\n",
    "            //incr/decr"
   ]
  },
  {
   "cell_type": "markdown",
   "id": "advanced-canal",
   "metadata": {},
   "source": [
    "# Range:\n",
    "    -> range()\n",
    "    -> range(ending_range)\n",
    "        Ex: range(5)\n",
    "        starting => 0 -> by default it starts from 0[inclusive]\n",
    "        ending => endrange-1 [exclusive]\n",
    "    -> range(start_range,end_range)\n",
    "        Ex: range(20,40)\n",
    "        starting => 20\n",
    "        ending => 39\n",
    "    -> range(start_range,end_range,stepping)\n",
    "        Ex: range(2,20,2)\n",
    "        starting => 2\n",
    "        ending => 18"
   ]
  },
  {
   "cell_type": "code",
   "execution_count": 17,
   "id": "beginning-cassette",
   "metadata": {},
   "outputs": [
    {
     "name": "stdout",
     "output_type": "stream",
     "text": [
      "5\n",
      "0+ 1+ 2+ 3+ 4+ "
     ]
    }
   ],
   "source": [
    "j = int(input())\n",
    "for i in range(j):\n",
    "    print(\"{}\".format(i),end=\"+ \")"
   ]
  },
  {
   "cell_type": "code",
   "execution_count": 19,
   "id": "alert-liberal",
   "metadata": {},
   "outputs": [
    {
     "name": "stdout",
     "output_type": "stream",
     "text": [
      "20\n",
      "30\n",
      "20 21 22 23 24 25 26 27 28 29 "
     ]
    }
   ],
   "source": [
    "j = int(input())\n",
    "k = int(input())\n",
    "for i in range(j,k):\n",
    "    print(\"{}\".format(i),end=\" \")"
   ]
  },
  {
   "cell_type": "code",
   "execution_count": 26,
   "id": "aging-apollo",
   "metadata": {},
   "outputs": [
    {
     "name": "stdout",
     "output_type": "stream",
     "text": [
      "100\n",
      "200\n",
      "50\n",
      "100 150 Loop count is: 2\n"
     ]
    }
   ],
   "source": [
    "j,k,s,c = int(input()),int(input()),int(input()),0\n",
    "for i in range(j,k,s):\n",
    "    print(\"{}\".format(i),end=\" \")\n",
    "    c+=1\n",
    "    \n",
    "print(\"Loop count is: {}\".format(c))"
   ]
  },
  {
   "cell_type": "markdown",
   "id": "indie-annotation",
   "metadata": {},
   "source": [
    "```\n",
    "Input: 1234\n",
    "Output: Given number is: 1234\n",
    "        Its Length is: 4\n",
    "```"
   ]
  },
  {
   "cell_type": "code",
   "execution_count": 31,
   "id": "centered-share",
   "metadata": {},
   "outputs": [
    {
     "name": "stdout",
     "output_type": "stream",
     "text": [
      "1234\n",
      "Given number is: 1234\n",
      "Its Count is: 4\n"
     ]
    }
   ],
   "source": [
    "k,c = int(input()),0\n",
    "p=k\n",
    "while k!=0:\n",
    "    k //= 10\n",
    "    c+=1\n",
    "print(\"Given number is: {}\\nIts Count is: {}\".format(p,c))"
   ]
  },
  {
   "cell_type": "markdown",
   "id": "introductory-vertical",
   "metadata": {},
   "source": [
    "```\n",
    "Input:178468765\n",
    "#       567864871\n",
    "Output:Given numer is: 178468765\n",
    "       Its left half even numbers are: 4 8\n",
    "```"
   ]
  },
  {
   "cell_type": "markdown",
   "id": "known-prescription",
   "metadata": {},
   "source": [
    "## Jumping Statements:\n",
    "    - continue -> skips\n",
    "    - break -> exit\n",
    "    - pass -> nothing\n",
    "    - return -> it returns values to main "
   ]
  },
  {
   "cell_type": "markdown",
   "id": "effective-aberdeen",
   "metadata": {},
   "source": [
    "## Data Structures\n",
    "    - List\n",
    "    - String\n",
    "    - Tuple\n",
    "    - Set\n",
    "    - Dictionary"
   ]
  },
  {
   "cell_type": "markdown",
   "id": "romance-glass",
   "metadata": {},
   "source": [
    "# List:\n",
    "    -> Heterogeneous Data type elements\n",
    "    -> []\n",
    "    -> indexing can be present, slicing can be done\n",
    "    -> It can changes the value\n",
    "    -> It allows duplicate elements\n",
    "    "
   ]
  },
  {
   "cell_type": "code",
   "execution_count": 35,
   "id": "tamil-thousand",
   "metadata": {},
   "outputs": [
    {
     "name": "stdout",
     "output_type": "stream",
     "text": [
      "[1, 2.03, 'tarun', 45, 78, 48]\n",
      "1\n",
      "tarun\n"
     ]
    }
   ],
   "source": [
    "p = [1,2.03,'tarun',45,78,48]\n",
    "print(p)\n",
    "print(p[0])\n",
    "print(p[2])"
   ]
  },
  {
   "cell_type": "code",
   "execution_count": 36,
   "id": "personalized-framework",
   "metadata": {},
   "outputs": [
    {
     "name": "stdout",
     "output_type": "stream",
     "text": [
      "1 <class 'int'>\n",
      "2.03 <class 'float'>\n",
      "tarun <class 'str'>\n",
      "45 <class 'int'>\n",
      "78 <class 'int'>\n",
      "48 <class 'int'>\n"
     ]
    }
   ],
   "source": [
    "for i in p:\n",
    "    print(i,type(i))"
   ]
  },
  {
   "cell_type": "code",
   "execution_count": 37,
   "id": "unknown-program",
   "metadata": {},
   "outputs": [
    {
     "name": "stdout",
     "output_type": "stream",
     "text": [
      "<class 'list'>\n"
     ]
    }
   ],
   "source": [
    "print(type(p))"
   ]
  },
  {
   "cell_type": "code",
   "execution_count": 39,
   "id": "worth-challenge",
   "metadata": {},
   "outputs": [
    {
     "name": "stdout",
     "output_type": "stream",
     "text": [
      "<class 'int'>\n"
     ]
    }
   ],
   "source": [
    "k = 20\n",
    "print(type(k))"
   ]
  },
  {
   "cell_type": "code",
   "execution_count": 42,
   "id": "smooth-vermont",
   "metadata": {},
   "outputs": [
    {
     "name": "stdout",
     "output_type": "stream",
     "text": [
      "0 1 <class 'int'> <class 'int'>\n",
      "1 2.03 <class 'int'> <class 'float'>\n",
      "2 tarun <class 'int'> <class 'str'>\n",
      "3 45 <class 'int'> <class 'int'>\n",
      "4 78 <class 'int'> <class 'int'>\n",
      "5 48 <class 'int'> <class 'int'>\n"
     ]
    }
   ],
   "source": [
    "for j in range(len(p)):\n",
    "    print(j,p[j],type(j),type(p[j]))"
   ]
  },
  {
   "cell_type": "code",
   "execution_count": 43,
   "id": "posted-ukraine",
   "metadata": {},
   "outputs": [
    {
     "name": "stdout",
     "output_type": "stream",
     "text": [
      "['__add__', '__class__', '__contains__', '__delattr__', '__delitem__', '__dir__', '__doc__', '__eq__', '__format__', '__ge__', '__getattribute__', '__getitem__', '__gt__', '__hash__', '__iadd__', '__imul__', '__init__', '__init_subclass__', '__iter__', '__le__', '__len__', '__lt__', '__mul__', '__ne__', '__new__', '__reduce__', '__reduce_ex__', '__repr__', '__reversed__', '__rmul__', '__setattr__', '__setitem__', '__sizeof__', '__str__', '__subclasshook__', 'append', 'clear', 'copy', 'count', 'extend', 'index', 'insert', 'pop', 'remove', 'reverse', 'sort']\n"
     ]
    }
   ],
   "source": [
    "print(dir(list))"
   ]
  },
  {
   "cell_type": "code",
   "execution_count": 44,
   "id": "expired-therapy",
   "metadata": {},
   "outputs": [
    {
     "data": {
      "text/plain": [
       "[1, 2.03, 'tarun', 45, 78, 48]"
      ]
     },
     "execution_count": 44,
     "metadata": {},
     "output_type": "execute_result"
    }
   ],
   "source": [
    "p"
   ]
  },
  {
   "cell_type": "code",
   "execution_count": 45,
   "id": "enormous-guard",
   "metadata": {},
   "outputs": [
    {
     "name": "stdout",
     "output_type": "stream",
     "text": [
      "[1, 2.03, 'tarun', 45, 78, 48, 12]\n"
     ]
    }
   ],
   "source": [
    "p.append(12)\n",
    "print(p)"
   ]
  },
  {
   "cell_type": "code",
   "execution_count": 50,
   "id": "christian-expert",
   "metadata": {},
   "outputs": [
    {
     "name": "stdout",
     "output_type": "stream",
     "text": [
      "[1, 2.03, 'tarun', 45, 78, 48, 12] <class 'list'>\n",
      "[1, 2.03, 'tarun', 45, 78, 48, 12] <class 'list'>\n"
     ]
    }
   ],
   "source": [
    "m = p.copy()\n",
    "print(m,type(m))\n",
    "print(p,type(p))"
   ]
  },
  {
   "cell_type": "code",
   "execution_count": 51,
   "id": "terminal-separation",
   "metadata": {},
   "outputs": [],
   "source": [
    "p.append(\"kumar\")"
   ]
  },
  {
   "cell_type": "code",
   "execution_count": 52,
   "id": "radical-starter",
   "metadata": {},
   "outputs": [
    {
     "name": "stdout",
     "output_type": "stream",
     "text": [
      "[1, 2.03, 'tarun', 45, 78, 48, 12, 'kumar']\n",
      "[1, 2.03, 'tarun', 45, 78, 48, 12]\n"
     ]
    }
   ],
   "source": [
    "print(p)\n",
    "print(m)"
   ]
  },
  {
   "cell_type": "code",
   "execution_count": 53,
   "id": "healthy-syndrome",
   "metadata": {},
   "outputs": [
    {
     "data": {
      "text/plain": [
       "1"
      ]
     },
     "execution_count": 53,
     "metadata": {},
     "output_type": "execute_result"
    }
   ],
   "source": [
    "p.count(45)"
   ]
  },
  {
   "cell_type": "code",
   "execution_count": 54,
   "id": "toxic-sleep",
   "metadata": {},
   "outputs": [],
   "source": [
    "p.append(12)"
   ]
  },
  {
   "cell_type": "code",
   "execution_count": 55,
   "id": "brown-status",
   "metadata": {},
   "outputs": [
    {
     "name": "stdout",
     "output_type": "stream",
     "text": [
      "[1, 2.03, 'tarun', 45, 78, 48, 12, 'kumar', 12]\n"
     ]
    }
   ],
   "source": [
    "print(p)"
   ]
  },
  {
   "cell_type": "code",
   "execution_count": 56,
   "id": "ahead-completion",
   "metadata": {},
   "outputs": [
    {
     "data": {
      "text/plain": [
       "2"
      ]
     },
     "execution_count": 56,
     "metadata": {},
     "output_type": "execute_result"
    }
   ],
   "source": [
    "p.count(12)"
   ]
  },
  {
   "cell_type": "code",
   "execution_count": 57,
   "id": "younger-leeds",
   "metadata": {},
   "outputs": [
    {
     "ename": "TypeError",
     "evalue": "append() takes exactly one argument (2 given)",
     "output_type": "error",
     "traceback": [
      "\u001b[1;31m---------------------------------------------------------------------------\u001b[0m",
      "\u001b[1;31mTypeError\u001b[0m                                 Traceback (most recent call last)",
      "\u001b[1;32m<ipython-input-57-c601eeb33b20>\u001b[0m in \u001b[0;36m<module>\u001b[1;34m\u001b[0m\n\u001b[1;32m----> 1\u001b[1;33m \u001b[0mp\u001b[0m\u001b[1;33m.\u001b[0m\u001b[0mappend\u001b[0m\u001b[1;33m(\u001b[0m\u001b[1;36m12\u001b[0m\u001b[1;33m,\u001b[0m\u001b[1;36m45\u001b[0m\u001b[1;33m)\u001b[0m\u001b[1;33m\u001b[0m\u001b[1;33m\u001b[0m\u001b[0m\n\u001b[0m",
      "\u001b[1;31mTypeError\u001b[0m: append() takes exactly one argument (2 given)"
     ]
    }
   ],
   "source": [
    "p.append(12,45)"
   ]
  },
  {
   "cell_type": "code",
   "execution_count": 58,
   "id": "reflected-headline",
   "metadata": {},
   "outputs": [
    {
     "ename": "TypeError",
     "evalue": "'int' object is not iterable",
     "output_type": "error",
     "traceback": [
      "\u001b[1;31m---------------------------------------------------------------------------\u001b[0m",
      "\u001b[1;31mTypeError\u001b[0m                                 Traceback (most recent call last)",
      "\u001b[1;32m<ipython-input-58-15eea11da64d>\u001b[0m in \u001b[0;36m<module>\u001b[1;34m\u001b[0m\n\u001b[1;32m----> 1\u001b[1;33m \u001b[0mp\u001b[0m\u001b[1;33m.\u001b[0m\u001b[0mextend\u001b[0m\u001b[1;33m(\u001b[0m\u001b[1;36m56\u001b[0m\u001b[1;33m)\u001b[0m\u001b[1;33m\u001b[0m\u001b[1;33m\u001b[0m\u001b[0m\n\u001b[0m",
      "\u001b[1;31mTypeError\u001b[0m: 'int' object is not iterable"
     ]
    }
   ],
   "source": [
    "p.extend(56)"
   ]
  },
  {
   "cell_type": "code",
   "execution_count": 59,
   "id": "local-princeton",
   "metadata": {},
   "outputs": [],
   "source": [
    "p.extend([23])"
   ]
  },
  {
   "cell_type": "code",
   "execution_count": 60,
   "id": "opponent-shareware",
   "metadata": {},
   "outputs": [
    {
     "name": "stdout",
     "output_type": "stream",
     "text": [
      "[1, 2.03, 'tarun', 45, 78, 48, 12, 'kumar', 12, 23]\n"
     ]
    }
   ],
   "source": [
    "print(p)"
   ]
  },
  {
   "cell_type": "code",
   "execution_count": 61,
   "id": "compatible-colleague",
   "metadata": {},
   "outputs": [],
   "source": [
    "p.extend([56,45,\"prasad\"])"
   ]
  },
  {
   "cell_type": "code",
   "execution_count": 62,
   "id": "theoretical-nirvana",
   "metadata": {},
   "outputs": [
    {
     "data": {
      "text/plain": [
       "[1, 2.03, 'tarun', 45, 78, 48, 12, 'kumar', 12, 23, 56, 45, 'prasad']"
      ]
     },
     "execution_count": 62,
     "metadata": {},
     "output_type": "execute_result"
    }
   ],
   "source": [
    "p"
   ]
  },
  {
   "cell_type": "code",
   "execution_count": 63,
   "id": "falling-yemen",
   "metadata": {},
   "outputs": [
    {
     "data": {
      "text/plain": [
       "6"
      ]
     },
     "execution_count": 63,
     "metadata": {},
     "output_type": "execute_result"
    }
   ],
   "source": [
    "p.index(12)"
   ]
  },
  {
   "cell_type": "code",
   "execution_count": 64,
   "id": "verbal-malta",
   "metadata": {},
   "outputs": [],
   "source": [
    "p.insert(0,\"lalitha\")"
   ]
  },
  {
   "cell_type": "code",
   "execution_count": 66,
   "id": "homeless-dubai",
   "metadata": {},
   "outputs": [
    {
     "name": "stdout",
     "output_type": "stream",
     "text": [
      "['lalitha', 1, 2.03, 'tarun', 45, 78, 48, 12, 'kumar', 12, 23, 56, 45, 'prasad']\n"
     ]
    }
   ],
   "source": [
    "print(p)"
   ]
  },
  {
   "cell_type": "code",
   "execution_count": 67,
   "id": "central-tomato",
   "metadata": {},
   "outputs": [],
   "source": [
    "p.insert(0,45)"
   ]
  },
  {
   "cell_type": "code",
   "execution_count": 68,
   "id": "persistent-pregnancy",
   "metadata": {},
   "outputs": [
    {
     "name": "stdout",
     "output_type": "stream",
     "text": [
      "[45, 'lalitha', 1, 2.03, 'tarun', 45, 78, 48, 12, 'kumar', 12, 23, 56, 45, 'prasad']\n"
     ]
    }
   ],
   "source": [
    "print(p)"
   ]
  },
  {
   "cell_type": "code",
   "execution_count": 69,
   "id": "introductory-verification",
   "metadata": {},
   "outputs": [],
   "source": [
    "p.insert(2,[12,45])"
   ]
  },
  {
   "cell_type": "code",
   "execution_count": 70,
   "id": "mature-occupation",
   "metadata": {},
   "outputs": [
    {
     "name": "stdout",
     "output_type": "stream",
     "text": [
      "[45, 'lalitha', [12, 45], 1, 2.03, 'tarun', 45, 78, 48, 12, 'kumar', 12, 23, 56, 45, 'prasad']\n"
     ]
    }
   ],
   "source": [
    "print(p)"
   ]
  },
  {
   "cell_type": "code",
   "execution_count": 71,
   "id": "aggregate-beaver",
   "metadata": {},
   "outputs": [
    {
     "data": {
      "text/plain": [
       "[12, 45]"
      ]
     },
     "execution_count": 71,
     "metadata": {},
     "output_type": "execute_result"
    }
   ],
   "source": [
    "p[2]"
   ]
  },
  {
   "cell_type": "code",
   "execution_count": 72,
   "id": "roman-sunrise",
   "metadata": {},
   "outputs": [
    {
     "data": {
      "text/plain": [
       "[]"
      ]
     },
     "execution_count": 72,
     "metadata": {},
     "output_type": "execute_result"
    }
   ],
   "source": [
    "p[2:0]"
   ]
  },
  {
   "cell_type": "code",
   "execution_count": 73,
   "id": "statutory-water",
   "metadata": {},
   "outputs": [
    {
     "data": {
      "text/plain": [
       "12"
      ]
     },
     "execution_count": 73,
     "metadata": {},
     "output_type": "execute_result"
    }
   ],
   "source": [
    "p[2][0]"
   ]
  },
  {
   "cell_type": "code",
   "execution_count": 74,
   "id": "framed-newman",
   "metadata": {},
   "outputs": [
    {
     "data": {
      "text/plain": [
       "'prasad'"
      ]
     },
     "execution_count": 74,
     "metadata": {},
     "output_type": "execute_result"
    }
   ],
   "source": [
    "p.pop()"
   ]
  },
  {
   "cell_type": "code",
   "execution_count": 75,
   "id": "durable-endorsement",
   "metadata": {},
   "outputs": [
    {
     "name": "stdout",
     "output_type": "stream",
     "text": [
      "[45, 'lalitha', [12, 45], 1, 2.03, 'tarun', 45, 78, 48, 12, 'kumar', 12, 23, 56, 45]\n"
     ]
    }
   ],
   "source": [
    "print(p)"
   ]
  },
  {
   "cell_type": "code",
   "execution_count": 76,
   "id": "nearby-detector",
   "metadata": {},
   "outputs": [
    {
     "data": {
      "text/plain": [
       "23"
      ]
     },
     "execution_count": 76,
     "metadata": {},
     "output_type": "execute_result"
    }
   ],
   "source": [
    "p.pop(12)"
   ]
  },
  {
   "cell_type": "code",
   "execution_count": 77,
   "id": "caring-substance",
   "metadata": {},
   "outputs": [
    {
     "name": "stdout",
     "output_type": "stream",
     "text": [
      "[45, 'lalitha', [12, 45], 1, 2.03, 'tarun', 45, 78, 48, 12, 'kumar', 12, 56, 45]\n"
     ]
    }
   ],
   "source": [
    "print(p)"
   ]
  },
  {
   "cell_type": "code",
   "execution_count": 78,
   "id": "varying-america",
   "metadata": {},
   "outputs": [
    {
     "ename": "TypeError",
     "evalue": "remove() takes exactly one argument (0 given)",
     "output_type": "error",
     "traceback": [
      "\u001b[1;31m---------------------------------------------------------------------------\u001b[0m",
      "\u001b[1;31mTypeError\u001b[0m                                 Traceback (most recent call last)",
      "\u001b[1;32m<ipython-input-78-f7fe887cb42a>\u001b[0m in \u001b[0;36m<module>\u001b[1;34m\u001b[0m\n\u001b[1;32m----> 1\u001b[1;33m \u001b[0mp\u001b[0m\u001b[1;33m.\u001b[0m\u001b[0mremove\u001b[0m\u001b[1;33m(\u001b[0m\u001b[1;33m)\u001b[0m\u001b[1;33m\u001b[0m\u001b[1;33m\u001b[0m\u001b[0m\n\u001b[0m",
      "\u001b[1;31mTypeError\u001b[0m: remove() takes exactly one argument (0 given)"
     ]
    }
   ],
   "source": [
    "p.remove()"
   ]
  },
  {
   "cell_type": "code",
   "execution_count": 79,
   "id": "opposed-characterization",
   "metadata": {},
   "outputs": [],
   "source": [
    "p.remove(12)"
   ]
  },
  {
   "cell_type": "code",
   "execution_count": 80,
   "id": "reflected-destiny",
   "metadata": {},
   "outputs": [
    {
     "name": "stdout",
     "output_type": "stream",
     "text": [
      "[45, 'lalitha', [12, 45], 1, 2.03, 'tarun', 45, 78, 48, 'kumar', 12, 56, 45]\n"
     ]
    }
   ],
   "source": [
    "print(p)"
   ]
  },
  {
   "cell_type": "code",
   "execution_count": 81,
   "id": "royal-relaxation",
   "metadata": {},
   "outputs": [],
   "source": [
    "p.reverse()"
   ]
  },
  {
   "cell_type": "code",
   "execution_count": 82,
   "id": "closed-midwest",
   "metadata": {},
   "outputs": [
    {
     "name": "stdout",
     "output_type": "stream",
     "text": [
      "[45, 56, 12, 'kumar', 48, 78, 45, 'tarun', 2.03, 1, [12, 45], 'lalitha', 45]\n"
     ]
    }
   ],
   "source": [
    "print(p)"
   ]
  },
  {
   "cell_type": "code",
   "execution_count": 83,
   "id": "invisible-freight",
   "metadata": {},
   "outputs": [
    {
     "name": "stdout",
     "output_type": "stream",
     "text": [
      "[45, 56, 12, 'kumar', 48, 78, 45, 'tarun', 2.03, 1, [12, 45], 'lalitha', 45]\n"
     ]
    }
   ],
   "source": [
    "print(p)"
   ]
  },
  {
   "cell_type": "code",
   "execution_count": 84,
   "id": "desperate-compatibility",
   "metadata": {},
   "outputs": [
    {
     "ename": "TypeError",
     "evalue": "'<' not supported between instances of 'str' and 'int'",
     "output_type": "error",
     "traceback": [
      "\u001b[1;31m---------------------------------------------------------------------------\u001b[0m",
      "\u001b[1;31mTypeError\u001b[0m                                 Traceback (most recent call last)",
      "\u001b[1;32m<ipython-input-84-357f481f0589>\u001b[0m in \u001b[0;36m<module>\u001b[1;34m\u001b[0m\n\u001b[1;32m----> 1\u001b[1;33m \u001b[0mp\u001b[0m\u001b[1;33m.\u001b[0m\u001b[0msort\u001b[0m\u001b[1;33m(\u001b[0m\u001b[1;33m)\u001b[0m\u001b[1;33m\u001b[0m\u001b[1;33m\u001b[0m\u001b[0m\n\u001b[0m",
      "\u001b[1;31mTypeError\u001b[0m: '<' not supported between instances of 'str' and 'int'"
     ]
    }
   ],
   "source": [
    "p.sort()"
   ]
  },
  {
   "cell_type": "code",
   "execution_count": 85,
   "id": "forced-blair",
   "metadata": {},
   "outputs": [
    {
     "name": "stdout",
     "output_type": "stream",
     "text": [
      "[1, 2, 12, 30, 2000]\n"
     ]
    }
   ],
   "source": [
    "k = [12,2000,30,2,1]\n",
    "k.sort()\n",
    "print(k)"
   ]
  },
  {
   "cell_type": "code",
   "execution_count": 86,
   "id": "serial-crack",
   "metadata": {},
   "outputs": [
    {
     "name": "stdout",
     "output_type": "stream",
     "text": [
      "[1, 2, 12, 30, 2000]\n"
     ]
    }
   ],
   "source": [
    "print(k)"
   ]
  },
  {
   "cell_type": "code",
   "execution_count": 87,
   "id": "downtown-bishop",
   "metadata": {},
   "outputs": [
    {
     "ename": "AttributeError",
     "evalue": "'list' object has no attribute 'sorted'",
     "output_type": "error",
     "traceback": [
      "\u001b[1;31m---------------------------------------------------------------------------\u001b[0m",
      "\u001b[1;31mAttributeError\u001b[0m                            Traceback (most recent call last)",
      "\u001b[1;32m<ipython-input-87-4bf7b1b605a0>\u001b[0m in \u001b[0;36m<module>\u001b[1;34m\u001b[0m\n\u001b[1;32m----> 1\u001b[1;33m \u001b[0mk\u001b[0m\u001b[1;33m.\u001b[0m\u001b[0msorted\u001b[0m\u001b[1;33m(\u001b[0m\u001b[0mreverse\u001b[0m\u001b[1;33m=\u001b[0m\u001b[1;32mFalse\u001b[0m\u001b[1;33m)\u001b[0m\u001b[1;33m\u001b[0m\u001b[1;33m\u001b[0m\u001b[0m\n\u001b[0m",
      "\u001b[1;31mAttributeError\u001b[0m: 'list' object has no attribute 'sorted'"
     ]
    }
   ],
   "source": [
    "k.sorted(reverse=False)"
   ]
  },
  {
   "cell_type": "code",
   "execution_count": 88,
   "id": "tropical-richmond",
   "metadata": {},
   "outputs": [],
   "source": [
    "k.sort(reverse=False)"
   ]
  },
  {
   "cell_type": "code",
   "execution_count": 89,
   "id": "forced-horizon",
   "metadata": {},
   "outputs": [
    {
     "name": "stdout",
     "output_type": "stream",
     "text": [
      "[1, 2, 12, 30, 2000]\n"
     ]
    }
   ],
   "source": [
    "print(k)"
   ]
  },
  {
   "cell_type": "code",
   "execution_count": 90,
   "id": "analyzed-annex",
   "metadata": {},
   "outputs": [
    {
     "data": {
      "text/plain": [
       "[1, 2, 12, 30, 2000]"
      ]
     },
     "execution_count": 90,
     "metadata": {},
     "output_type": "execute_result"
    }
   ],
   "source": [
    "sorted(k)"
   ]
  },
  {
   "cell_type": "code",
   "execution_count": 92,
   "id": "republican-catholic",
   "metadata": {},
   "outputs": [],
   "source": [
    "k.sort(reverse=True)"
   ]
  },
  {
   "cell_type": "code",
   "execution_count": 93,
   "id": "least-tuner",
   "metadata": {},
   "outputs": [
    {
     "name": "stdout",
     "output_type": "stream",
     "text": [
      "[2000, 30, 12, 2, 1]\n"
     ]
    }
   ],
   "source": [
    "print(k)"
   ]
  },
  {
   "cell_type": "code",
   "execution_count": 94,
   "id": "arbitrary-washer",
   "metadata": {},
   "outputs": [],
   "source": [
    "p.clear()"
   ]
  },
  {
   "cell_type": "code",
   "execution_count": 95,
   "id": "turkish-volleyball",
   "metadata": {},
   "outputs": [
    {
     "name": "stdout",
     "output_type": "stream",
     "text": [
      "[]\n"
     ]
    }
   ],
   "source": [
    "print(p)"
   ]
  },
  {
   "cell_type": "code",
   "execution_count": 96,
   "id": "amino-berlin",
   "metadata": {},
   "outputs": [],
   "source": [
    "del p"
   ]
  },
  {
   "cell_type": "code",
   "execution_count": 97,
   "id": "defined-constraint",
   "metadata": {},
   "outputs": [
    {
     "ename": "NameError",
     "evalue": "name 'p' is not defined",
     "output_type": "error",
     "traceback": [
      "\u001b[1;31m---------------------------------------------------------------------------\u001b[0m",
      "\u001b[1;31mNameError\u001b[0m                                 Traceback (most recent call last)",
      "\u001b[1;32m<ipython-input-97-c7efc66e9b10>\u001b[0m in \u001b[0;36m<module>\u001b[1;34m\u001b[0m\n\u001b[1;32m----> 1\u001b[1;33m \u001b[0mprint\u001b[0m\u001b[1;33m(\u001b[0m\u001b[0mp\u001b[0m\u001b[1;33m)\u001b[0m\u001b[1;33m\u001b[0m\u001b[1;33m\u001b[0m\u001b[0m\n\u001b[0m",
      "\u001b[1;31mNameError\u001b[0m: name 'p' is not defined"
     ]
    }
   ],
   "source": [
    "print(p)"
   ]
  },
  {
   "cell_type": "markdown",
   "id": "boolean-indicator",
   "metadata": {},
   "source": [
    "# Tuple:\n",
    "    -> It can stores Heterogeneous type of data type elements\n",
    "    -> ()\n",
    "    -> It can't changes the value\n",
    "    -> Index, Slicing can be done\n",
    "    -> It can allows duplicate elements"
   ]
  },
  {
   "cell_type": "code",
   "execution_count": 98,
   "id": "periodic-repeat",
   "metadata": {},
   "outputs": [],
   "source": [
    "k = (1,56.00,'Prasad')"
   ]
  },
  {
   "cell_type": "code",
   "execution_count": 99,
   "id": "fallen-gardening",
   "metadata": {},
   "outputs": [
    {
     "name": "stdout",
     "output_type": "stream",
     "text": [
      "(1, 56.0, 'Prasad')\n"
     ]
    }
   ],
   "source": [
    "print(k)"
   ]
  },
  {
   "cell_type": "code",
   "execution_count": 100,
   "id": "statistical-pierce",
   "metadata": {},
   "outputs": [
    {
     "name": "stdout",
     "output_type": "stream",
     "text": [
      "Prasad\n"
     ]
    }
   ],
   "source": [
    "print(k[2])"
   ]
  },
  {
   "cell_type": "code",
   "execution_count": 101,
   "id": "right-split",
   "metadata": {},
   "outputs": [
    {
     "name": "stdout",
     "output_type": "stream",
     "text": [
      "['__add__', '__class__', '__contains__', '__delattr__', '__dir__', '__doc__', '__eq__', '__format__', '__ge__', '__getattribute__', '__getitem__', '__getnewargs__', '__gt__', '__hash__', '__init__', '__init_subclass__', '__iter__', '__le__', '__len__', '__lt__', '__mul__', '__ne__', '__new__', '__reduce__', '__reduce_ex__', '__repr__', '__rmul__', '__setattr__', '__sizeof__', '__str__', '__subclasshook__', 'count', 'index']\n"
     ]
    }
   ],
   "source": [
    "print(dir(tuple))"
   ]
  },
  {
   "cell_type": "code",
   "execution_count": 102,
   "id": "competent-documentary",
   "metadata": {},
   "outputs": [],
   "source": [
    "m = (12,12,52.00,'Lalitha')"
   ]
  },
  {
   "cell_type": "code",
   "execution_count": 103,
   "id": "approximate-kinase",
   "metadata": {},
   "outputs": [
    {
     "name": "stdout",
     "output_type": "stream",
     "text": [
      "(12, 12, 52.0, 'Lalitha')\n"
     ]
    }
   ],
   "source": [
    "print(m)"
   ]
  },
  {
   "cell_type": "code",
   "execution_count": 104,
   "id": "oriented-daughter",
   "metadata": {},
   "outputs": [
    {
     "name": "stdout",
     "output_type": "stream",
     "text": [
      "<class 'tuple'>\n"
     ]
    }
   ],
   "source": [
    "print(type(m))"
   ]
  },
  {
   "cell_type": "code",
   "execution_count": 105,
   "id": "utility-myanmar",
   "metadata": {},
   "outputs": [
    {
     "data": {
      "text/plain": [
       "2"
      ]
     },
     "execution_count": 105,
     "metadata": {},
     "output_type": "execute_result"
    }
   ],
   "source": [
    "m.count(12)"
   ]
  },
  {
   "cell_type": "code",
   "execution_count": 106,
   "id": "retired-spine",
   "metadata": {},
   "outputs": [
    {
     "data": {
      "text/plain": [
       "0"
      ]
     },
     "execution_count": 106,
     "metadata": {},
     "output_type": "execute_result"
    }
   ],
   "source": [
    "m.index(12)"
   ]
  },
  {
   "cell_type": "markdown",
   "id": "applied-uzbekistan",
   "metadata": {},
   "source": [
    "# String:\n",
    "    -> ' ' or \" \"\n",
    "    -> different data types can be act as  string while those data types can be enclosed with ' or \"\n",
    "    -> index,slicing can be done"
   ]
  },
  {
   "cell_type": "code",
   "execution_count": 107,
   "id": "chemical-poison",
   "metadata": {},
   "outputs": [],
   "source": [
    "d = \"APSSDC Programs\""
   ]
  },
  {
   "cell_type": "code",
   "execution_count": 108,
   "id": "basic-avenue",
   "metadata": {},
   "outputs": [
    {
     "name": "stdout",
     "output_type": "stream",
     "text": [
      "APSSDC Programs <class 'str'>\n"
     ]
    }
   ],
   "source": [
    "print(d,type(d))"
   ]
  },
  {
   "cell_type": "code",
   "execution_count": 111,
   "id": "hundred-cliff",
   "metadata": {},
   "outputs": [
    {
     "name": "stdout",
     "output_type": "stream",
     "text": [
      "A <class 'str'>\n",
      "P <class 'str'>\n",
      "S <class 'str'>\n",
      "S <class 'str'>\n",
      "D <class 'str'>\n",
      "C <class 'str'>\n",
      "  <class 'str'>\n",
      "P <class 'str'>\n",
      "r <class 'str'>\n",
      "o <class 'str'>\n",
      "g <class 'str'>\n",
      "r <class 'str'>\n",
      "a <class 'str'>\n",
      "m <class 'str'>\n",
      "s <class 'str'>\n"
     ]
    }
   ],
   "source": [
    "for i in d:\n",
    "    print(i,type(i))"
   ]
  },
  {
   "cell_type": "code",
   "execution_count": 112,
   "id": "dramatic-cable",
   "metadata": {},
   "outputs": [
    {
     "name": "stdout",
     "output_type": "stream",
     "text": [
      "A\n",
      "P\n",
      "S\n",
      "S\n",
      "D\n",
      "C\n",
      " \n",
      "P\n",
      "r\n",
      "o\n",
      "g\n",
      "r\n",
      "a\n",
      "m\n",
      "s\n"
     ]
    }
   ],
   "source": [
    "for i in range(len(d)):\n",
    "    print(d[i])\n",
    "    "
   ]
  },
  {
   "cell_type": "code",
   "execution_count": 131,
   "id": "analyzed-moses",
   "metadata": {},
   "outputs": [
    {
     "name": "stdout",
     "output_type": "stream",
     "text": [
      "APSSDC Programs\n",
      "A\n",
      "C\n",
      "s\n",
      "SDC P\n",
      "C Programs\n",
      "APSSDC Pr\n",
      "DC Progr\n",
      "ams\n",
      " Progra\n",
      "\n",
      "\n"
     ]
    }
   ],
   "source": [
    "print(d)\n",
    "print(d[0])\n",
    "print(d[5])\n",
    "print(d[-1])\n",
    "print(d[3:8])\n",
    "print(d[5:])\n",
    "print(d[:9])\n",
    "print(d[4:-3])\n",
    "print(d[-3:])\n",
    "print(d[-9:-2])\n",
    "print(d[-2:5])\n",
    "print(d[-2:-9])"
   ]
  },
  {
   "cell_type": "code",
   "execution_count": 154,
   "id": "australian-lancaster",
   "metadata": {},
   "outputs": [
    {
     "name": "stdout",
     "output_type": "stream",
     "text": [
      "APSSDC Programs\n",
      "APSSDC Programs\n",
      "C Programs\n",
      "APSSDC Pr\n",
      "AS oa\n",
      "srrCS\n",
      "SD r\n",
      "SD \n",
      "\n",
      "gas\n",
      "mroP\n",
      "D rg\n",
      "smargorP CDSSPA\n"
     ]
    }
   ],
   "source": [
    "print(d)\n",
    "print(d[::])\n",
    "print(d[5::])\n",
    "print(d[:9:])\n",
    "print(d[::3])\n",
    "print(d[::-3])\n",
    "print(d[2:9:2])\n",
    "print(d[2:-7:2])\n",
    "print(d[3:10:-2]) #\n",
    "print(d[-5::2])\n",
    "print(d[-2:-10:-2])\n",
    "print(d[-11:-3:2]) #\n",
    "print(d[::-1])"
   ]
  },
  {
   "cell_type": "code",
   "execution_count": 155,
   "id": "solid-captain",
   "metadata": {},
   "outputs": [
    {
     "name": "stdout",
     "output_type": "stream",
     "text": [
      "['__add__', '__class__', '__contains__', '__delattr__', '__dir__', '__doc__', '__eq__', '__format__', '__ge__', '__getattribute__', '__getitem__', '__getnewargs__', '__gt__', '__hash__', '__init__', '__init_subclass__', '__iter__', '__le__', '__len__', '__lt__', '__mod__', '__mul__', '__ne__', '__new__', '__reduce__', '__reduce_ex__', '__repr__', '__rmod__', '__rmul__', '__setattr__', '__sizeof__', '__str__', '__subclasshook__', 'capitalize', 'casefold', 'center', 'count', 'encode', 'endswith', 'expandtabs', 'find', 'format', 'format_map', 'index', 'isalnum', 'isalpha', 'isascii', 'isdecimal', 'isdigit', 'isidentifier', 'islower', 'isnumeric', 'isprintable', 'isspace', 'istitle', 'isupper', 'join', 'ljust', 'lower', 'lstrip', 'maketrans', 'partition', 'replace', 'rfind', 'rindex', 'rjust', 'rpartition', 'rsplit', 'rstrip', 'split', 'splitlines', 'startswith', 'strip', 'swapcase', 'title', 'translate', 'upper', 'zfill']\n"
     ]
    }
   ],
   "source": [
    "print(dir(str))"
   ]
  },
  {
   "cell_type": "code",
   "execution_count": 156,
   "id": "verbal-links",
   "metadata": {},
   "outputs": [
    {
     "name": "stdout",
     "output_type": "stream",
     "text": [
      "APSSDC Programs\n"
     ]
    }
   ],
   "source": [
    "print(d)"
   ]
  },
  {
   "cell_type": "code",
   "execution_count": 158,
   "id": "residential-grill",
   "metadata": {},
   "outputs": [
    {
     "name": "stdout",
     "output_type": "stream",
     "text": [
      "Apssdc programs\n",
      "apssdc programs\n",
      "Apssdc Programs\n",
      "apssdc pROGRAMS\n"
     ]
    }
   ],
   "source": [
    "print(d.capitalize())\n",
    "print(d.casefold())\n",
    "print(d.title())\n",
    "print(d.swapcase())"
   ]
  },
  {
   "cell_type": "markdown",
   "id": "addressed-yahoo",
   "metadata": {},
   "source": [
    "```\n",
    "Input:178468765\n",
    "#       567864871\n",
    "Output:Given numer is: 178468765\n",
    "       Its even numbers are: 8 4 6 8 6\n",
    "       Its odd numbers are: 1 7 7 5\n",
    "       Its even digit count is: 5\n",
    "       Its odd digit count is: 4\n",
    "       Its Even numbers sum is: ?\n",
    "       Its odd numbers sum is: ?\n",
    "```"
   ]
  },
  {
   "cell_type": "code",
   "execution_count": null,
   "id": "historic-drive",
   "metadata": {},
   "outputs": [],
   "source": []
  }
 ],
 "metadata": {
  "kernelspec": {
   "display_name": "Python 3",
   "language": "python",
   "name": "python3"
  },
  "language_info": {
   "codemirror_mode": {
    "name": "ipython",
    "version": 3
   },
   "file_extension": ".py",
   "mimetype": "text/x-python",
   "name": "python",
   "nbconvert_exporter": "python",
   "pygments_lexer": "ipython3",
   "version": "3.7.4"
  }
 },
 "nbformat": 4,
 "nbformat_minor": 5
}
